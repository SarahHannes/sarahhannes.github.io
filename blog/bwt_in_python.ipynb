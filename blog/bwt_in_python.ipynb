{
 "cells": [
  {
   "cell_type": "markdown",
   "id": "992cd7bc",
   "metadata": {},
   "source": [
    "---\n",
    "title: \"Burrows-Wheeler Transform in Python\"\n",
    "execute: \n",
    "  enabled: false\n",
    "  freeze: true\n",
    "date: \"11/6/2024\"\n",
    "categories: [Bioinformatics, BWT, data structure]\n",
    "---\n"
   ]
  },
  {
   "cell_type": "markdown",
   "id": "6eb535ec-084a-4ad3-8b4d-ec6ab7088f42",
   "metadata": {},
   "source": [
    "> Burrows-Wheeler Transform is a method used for pattern matching problem. We can use it to find all instances of substrings in the database that matches our query sequence."
   ]
  },
  {
   "cell_type": "markdown",
   "id": "96074d8e",
   "metadata": {},
   "source": [
    "I recently learnt about Burrows-Wheeler Transform from the <a href=\"https://www.youtube.com/playlist?list=PLM_KIlU0WoXmkV4QB1Dg8PtJaHTdWHwRS\">Advanced Data Structure</a> playlist by Niema Moshiri. In this notebook, I tried to implement it using python."
   ]
  },
  {
   "cell_type": "code",
   "execution_count": null,
   "id": "ca606f16-efa1-42a9-8b5a-baaa28535277",
   "metadata": {
    "execution": {
     "iopub.execute_input": "2024-11-05T11:39:27.627665Z",
     "iopub.status.busy": "2024-11-05T11:39:27.627255Z",
     "iopub.status.idle": "2024-11-05T11:39:27.632020Z",
     "shell.execute_reply": "2024-11-05T11:39:27.630566Z",
     "shell.execute_reply.started": "2024-11-05T11:39:27.627638Z"
    }
   },
   "outputs": [],
   "source": [
    "from collections import Counter\n",
    "import pandas as pd"
   ]
  },
  {
   "cell_type": "code",
   "execution_count": 1,
   "id": "2ff4f87b-ba77-43b1-a5e7-89a835bf7967",
   "metadata": {
    "execution": {
     "iopub.execute_input": "2024-11-05T11:21:21.162655Z",
     "iopub.status.busy": "2024-11-05T11:21:21.161986Z",
     "iopub.status.idle": "2024-11-05T11:21:21.177707Z",
     "shell.execute_reply": "2024-11-05T11:21:21.175961Z",
     "shell.execute_reply.started": "2024-11-05T11:21:21.162592Z"
    }
   },
   "outputs": [],
   "source": [
    "db = 'BANANA$'"
   ]
  },
  {
   "cell_type": "markdown",
   "id": "d0591631-6b1b-441a-957a-082dee402591",
   "metadata": {},
   "source": [
    "# Extracting Burrow-Wheeler Transform (BWT)"
   ]
  },
  {
   "cell_type": "code",
   "execution_count": 23,
   "id": "ef03af55-181b-4cca-ae42-c044cbbbf605",
   "metadata": {
    "execution": {
     "iopub.execute_input": "2024-11-05T11:31:22.713895Z",
     "iopub.status.busy": "2024-11-05T11:31:22.713439Z",
     "iopub.status.idle": "2024-11-05T11:31:22.718621Z",
     "shell.execute_reply": "2024-11-05T11:31:22.717827Z",
     "shell.execute_reply.started": "2024-11-05T11:31:22.713864Z"
    }
   },
   "outputs": [],
   "source": [
    "rotations = []\n",
    "rotations.append(db)\n",
    "s = db\n",
    "for i in range(len(db)-1):\n",
    "    s = s[-1] + s[:-1]\n",
    "    rotations.append(s)"
   ]
  },
  {
   "cell_type": "code",
   "execution_count": 28,
   "id": "ee41bcec-2074-440b-827f-141638360845",
   "metadata": {
    "execution": {
     "iopub.execute_input": "2024-11-05T11:32:16.685444Z",
     "iopub.status.busy": "2024-11-05T11:32:16.684835Z",
     "iopub.status.idle": "2024-11-05T11:32:16.704839Z",
     "shell.execute_reply": "2024-11-05T11:32:16.704007Z",
     "shell.execute_reply.started": "2024-11-05T11:32:16.685404Z"
    }
   },
   "outputs": [
    {
     "data": {
      "text/html": [
       "<div>\n",
       "<style scoped>\n",
       "    .dataframe tbody tr th:only-of-type {\n",
       "        vertical-align: middle;\n",
       "    }\n",
       "\n",
       "    .dataframe tbody tr th {\n",
       "        vertical-align: top;\n",
       "    }\n",
       "\n",
       "    .dataframe thead th {\n",
       "        text-align: right;\n",
       "    }\n",
       "</style>\n",
       "<table border=\"1\" class=\"dataframe\">\n",
       "  <thead>\n",
       "    <tr style=\"text-align: right;\">\n",
       "      <th></th>\n",
       "      <th>rotations</th>\n",
       "      <th>sorted_rotations</th>\n",
       "    </tr>\n",
       "  </thead>\n",
       "  <tbody>\n",
       "    <tr>\n",
       "      <th>0</th>\n",
       "      <td>BANANA$</td>\n",
       "      <td>$BANANA</td>\n",
       "    </tr>\n",
       "    <tr>\n",
       "      <th>1</th>\n",
       "      <td>$BANANA</td>\n",
       "      <td>A$BANAN</td>\n",
       "    </tr>\n",
       "    <tr>\n",
       "      <th>2</th>\n",
       "      <td>A$BANAN</td>\n",
       "      <td>ANA$BAN</td>\n",
       "    </tr>\n",
       "    <tr>\n",
       "      <th>3</th>\n",
       "      <td>NA$BANA</td>\n",
       "      <td>ANANA$B</td>\n",
       "    </tr>\n",
       "    <tr>\n",
       "      <th>4</th>\n",
       "      <td>ANA$BAN</td>\n",
       "      <td>BANANA$</td>\n",
       "    </tr>\n",
       "    <tr>\n",
       "      <th>5</th>\n",
       "      <td>NANA$BA</td>\n",
       "      <td>NA$BANA</td>\n",
       "    </tr>\n",
       "    <tr>\n",
       "      <th>6</th>\n",
       "      <td>ANANA$B</td>\n",
       "      <td>NANA$BA</td>\n",
       "    </tr>\n",
       "  </tbody>\n",
       "</table>\n",
       "</div>"
      ],
      "text/plain": [
       "  rotations sorted_rotations\n",
       "0   BANANA$          $BANANA\n",
       "1   $BANANA          A$BANAN\n",
       "2   A$BANAN          ANA$BAN\n",
       "3   NA$BANA          ANANA$B\n",
       "4   ANA$BAN          BANANA$\n",
       "5   NANA$BA          NA$BANA\n",
       "6   ANANA$B          NANA$BA"
      ]
     },
     "execution_count": 28,
     "metadata": {},
     "output_type": "execute_result"
    }
   ],
   "source": [
    "pd.DataFrame({'rotations':rotations, 'sorted_rotations': sorted(rotations)})"
   ]
  },
  {
   "cell_type": "markdown",
   "id": "4028eb63-b9de-4baf-8ca7-28b38f2bfdca",
   "metadata": {},
   "source": [
    "The Burrow - Wheeler Transform (BWT) is the last characters from the list of sorted rotations."
   ]
  },
  {
   "cell_type": "code",
   "execution_count": 29,
   "id": "87b8a408-7709-4c10-b9a7-878d33a47ca6",
   "metadata": {
    "execution": {
     "iopub.execute_input": "2024-11-05T11:32:55.230626Z",
     "iopub.status.busy": "2024-11-05T11:32:55.229963Z",
     "iopub.status.idle": "2024-11-05T11:32:55.238559Z",
     "shell.execute_reply": "2024-11-05T11:32:55.237319Z",
     "shell.execute_reply.started": "2024-11-05T11:32:55.230595Z"
    }
   },
   "outputs": [
    {
     "data": {
      "text/plain": [
       "['A', 'N', 'N', 'B', '$', 'A', 'A']"
      ]
     },
     "execution_count": 29,
     "metadata": {},
     "output_type": "execute_result"
    }
   ],
   "source": [
    "BWT = [s[-1] for s in sorted(rotations)]\n",
    "BWT"
   ]
  },
  {
   "cell_type": "markdown",
   "id": "da278cad-3b4e-4f6f-b200-800e963289e2",
   "metadata": {},
   "source": [
    "# Inverting the Burrow-Wheeler Transform (BWT)"
   ]
  },
  {
   "cell_type": "markdown",
   "id": "c492f5d6-5e2f-4d43-ad80-99702e245312",
   "metadata": {},
   "source": [
    "Burrow-Wheeler transform is reversable. Here's how to construct the original string from BWT:"
   ]
  },
  {
   "cell_type": "markdown",
   "id": "94dcc8f6-14cd-4e5c-9d82-ecfc63ca59b0",
   "metadata": {},
   "source": [
    "## Step 1: List out BWT as last column and sorted list of the original database as first column"
   ]
  },
  {
   "cell_type": "code",
   "execution_count": 111,
   "id": "511f0445-d423-4282-9020-399a5f213f13",
   "metadata": {
    "execution": {
     "iopub.execute_input": "2024-11-05T12:03:08.032044Z",
     "iopub.status.busy": "2024-11-05T12:03:08.031629Z",
     "iopub.status.idle": "2024-11-05T12:03:08.043696Z",
     "shell.execute_reply": "2024-11-05T12:03:08.042618Z",
     "shell.execute_reply.started": "2024-11-05T12:03:08.032015Z"
    }
   },
   "outputs": [
    {
     "data": {
      "text/html": [
       "<div>\n",
       "<style scoped>\n",
       "    .dataframe tbody tr th:only-of-type {\n",
       "        vertical-align: middle;\n",
       "    }\n",
       "\n",
       "    .dataframe tbody tr th {\n",
       "        vertical-align: top;\n",
       "    }\n",
       "\n",
       "    .dataframe thead th {\n",
       "        text-align: right;\n",
       "    }\n",
       "</style>\n",
       "<table border=\"1\" class=\"dataframe\">\n",
       "  <thead>\n",
       "    <tr style=\"text-align: right;\">\n",
       "      <th></th>\n",
       "      <th>first</th>\n",
       "      <th>last</th>\n",
       "    </tr>\n",
       "  </thead>\n",
       "  <tbody>\n",
       "    <tr>\n",
       "      <th>0</th>\n",
       "      <td>$</td>\n",
       "      <td>A</td>\n",
       "    </tr>\n",
       "    <tr>\n",
       "      <th>1</th>\n",
       "      <td>A</td>\n",
       "      <td>N</td>\n",
       "    </tr>\n",
       "    <tr>\n",
       "      <th>2</th>\n",
       "      <td>A</td>\n",
       "      <td>N</td>\n",
       "    </tr>\n",
       "    <tr>\n",
       "      <th>3</th>\n",
       "      <td>A</td>\n",
       "      <td>B</td>\n",
       "    </tr>\n",
       "    <tr>\n",
       "      <th>4</th>\n",
       "      <td>B</td>\n",
       "      <td>$</td>\n",
       "    </tr>\n",
       "    <tr>\n",
       "      <th>5</th>\n",
       "      <td>N</td>\n",
       "      <td>A</td>\n",
       "    </tr>\n",
       "    <tr>\n",
       "      <th>6</th>\n",
       "      <td>N</td>\n",
       "      <td>A</td>\n",
       "    </tr>\n",
       "  </tbody>\n",
       "</table>\n",
       "</div>"
      ],
      "text/plain": [
       "  first last\n",
       "0     $    A\n",
       "1     A    N\n",
       "2     A    N\n",
       "3     A    B\n",
       "4     B    $\n",
       "5     N    A\n",
       "6     N    A"
      ]
     },
     "execution_count": 111,
     "metadata": {},
     "output_type": "execute_result"
    }
   ],
   "source": [
    "df = pd.DataFrame({'first': sorted(db), 'last': BWT})\n",
    "df"
   ]
  },
  {
   "cell_type": "markdown",
   "id": "11fac1cc-f7b0-4007-b343-9d7e9817815e",
   "metadata": {},
   "source": [
    "## Step 2: Add the number of times we've seen the character at that point as subscript"
   ]
  },
  {
   "cell_type": "code",
   "execution_count": 40,
   "id": "0611a8de-a0bf-4fe3-a586-86a497a61ca6",
   "metadata": {
    "execution": {
     "iopub.execute_input": "2024-11-05T11:44:51.712808Z",
     "iopub.status.busy": "2024-11-05T11:44:51.712290Z",
     "iopub.status.idle": "2024-11-05T11:44:51.719826Z",
     "shell.execute_reply": "2024-11-05T11:44:51.718677Z",
     "shell.execute_reply.started": "2024-11-05T11:44:51.712780Z"
    }
   },
   "outputs": [
    {
     "data": {
      "text/plain": [
       "['$1', 'A1', 'A2', 'A3', 'B1', 'N1', 'N2']"
      ]
     },
     "execution_count": 40,
     "metadata": {},
     "output_type": "execute_result"
    }
   ],
   "source": [
    "### adding subscript for first column (sorted original database)\n",
    "\n",
    "dbcounter = Counter(db)\n",
    "\n",
    "sorted_db_subs = []\n",
    "for c in sorted(db, reverse=True):\n",
    "    sorted_db_subs.append(c + str(dbcounter[c]))\n",
    "    dbcounter[c] = dbcounter[c] - 1\n",
    "\n",
    "sorted_db_subs = sorted(sorted_db_subs)\n",
    "sorted_db_subs"
   ]
  },
  {
   "cell_type": "code",
   "execution_count": 54,
   "id": "ef11895b-7ad3-4b0a-aa16-0252899904b5",
   "metadata": {
    "execution": {
     "iopub.execute_input": "2024-11-05T11:48:10.120954Z",
     "iopub.status.busy": "2024-11-05T11:48:10.120539Z",
     "iopub.status.idle": "2024-11-05T11:48:10.126047Z",
     "shell.execute_reply": "2024-11-05T11:48:10.125232Z",
     "shell.execute_reply.started": "2024-11-05T11:48:10.120927Z"
    }
   },
   "outputs": [
    {
     "name": "stdout",
     "output_type": "stream",
     "text": [
      "Counter({'A': 3, 'N': 2, 'B': 1, '$': 1})\n"
     ]
    }
   ],
   "source": [
    "### adding subscript for last column (BWT)\n",
    "\n",
    "dbcounter = Counter(BWT)\n",
    "print(dbcounter)\n",
    "\n",
    "bwt_subs = []\n",
    "for c in BWT[::-1]:\n",
    "    bwt_subs.append(c + str(dbcounter[c]))\n",
    "    dbcounter[c] = dbcounter[c] - 1\n",
    "\n",
    "bwt_subs = bwt_subs[::-1]\n"
   ]
  },
  {
   "cell_type": "code",
   "execution_count": 112,
   "id": "254fea45-2c76-494a-bb95-370f36ed637f",
   "metadata": {
    "execution": {
     "iopub.execute_input": "2024-11-05T12:03:14.280124Z",
     "iopub.status.busy": "2024-11-05T12:03:14.279692Z",
     "iopub.status.idle": "2024-11-05T12:03:14.284856Z",
     "shell.execute_reply": "2024-11-05T12:03:14.284014Z",
     "shell.execute_reply.started": "2024-11-05T12:03:14.280096Z"
    }
   },
   "outputs": [],
   "source": [
    "df['first_sub'] = sorted_db_subs\n",
    "df['last_sub'] = bwt_subs"
   ]
  },
  {
   "cell_type": "code",
   "execution_count": 90,
   "id": "b728f8d8-c69d-44d4-ae81-9760ef1c376f",
   "metadata": {
    "execution": {
     "iopub.execute_input": "2024-11-05T11:57:46.613354Z",
     "iopub.status.busy": "2024-11-05T11:57:46.613027Z",
     "iopub.status.idle": "2024-11-05T11:57:46.617846Z",
     "shell.execute_reply": "2024-11-05T11:57:46.617378Z",
     "shell.execute_reply.started": "2024-11-05T11:57:46.613340Z"
    }
   },
   "outputs": [
    {
     "data": {
      "text/html": [
       "<div>\n",
       "<style scoped>\n",
       "    .dataframe tbody tr th:only-of-type {\n",
       "        vertical-align: middle;\n",
       "    }\n",
       "\n",
       "    .dataframe tbody tr th {\n",
       "        vertical-align: top;\n",
       "    }\n",
       "\n",
       "    .dataframe thead th {\n",
       "        text-align: right;\n",
       "    }\n",
       "</style>\n",
       "<table border=\"1\" class=\"dataframe\">\n",
       "  <thead>\n",
       "    <tr style=\"text-align: right;\">\n",
       "      <th></th>\n",
       "      <th>first</th>\n",
       "      <th>last</th>\n",
       "      <th>first_sub</th>\n",
       "      <th>last_sub</th>\n",
       "    </tr>\n",
       "  </thead>\n",
       "  <tbody>\n",
       "    <tr>\n",
       "      <th>0</th>\n",
       "      <td>$</td>\n",
       "      <td>A</td>\n",
       "      <td>$1</td>\n",
       "      <td>A1</td>\n",
       "    </tr>\n",
       "    <tr>\n",
       "      <th>1</th>\n",
       "      <td>A</td>\n",
       "      <td>N</td>\n",
       "      <td>A1</td>\n",
       "      <td>N1</td>\n",
       "    </tr>\n",
       "    <tr>\n",
       "      <th>2</th>\n",
       "      <td>A</td>\n",
       "      <td>N</td>\n",
       "      <td>A2</td>\n",
       "      <td>N2</td>\n",
       "    </tr>\n",
       "    <tr>\n",
       "      <th>3</th>\n",
       "      <td>A</td>\n",
       "      <td>B</td>\n",
       "      <td>A3</td>\n",
       "      <td>B1</td>\n",
       "    </tr>\n",
       "    <tr>\n",
       "      <th>4</th>\n",
       "      <td>B</td>\n",
       "      <td>$</td>\n",
       "      <td>B1</td>\n",
       "      <td>$1</td>\n",
       "    </tr>\n",
       "    <tr>\n",
       "      <th>5</th>\n",
       "      <td>N</td>\n",
       "      <td>A</td>\n",
       "      <td>N1</td>\n",
       "      <td>A2</td>\n",
       "    </tr>\n",
       "    <tr>\n",
       "      <th>6</th>\n",
       "      <td>N</td>\n",
       "      <td>A</td>\n",
       "      <td>N2</td>\n",
       "      <td>A3</td>\n",
       "    </tr>\n",
       "  </tbody>\n",
       "</table>\n",
       "</div>"
      ],
      "text/plain": [
       "  first last first_sub last_sub\n",
       "0     $    A        $1       A1\n",
       "1     A    N        A1       N1\n",
       "2     A    N        A2       N2\n",
       "3     A    B        A3       B1\n",
       "4     B    $        B1       $1\n",
       "5     N    A        N1       A2\n",
       "6     N    A        N2       A3"
      ]
     },
     "execution_count": 90,
     "metadata": {},
     "output_type": "execute_result"
    }
   ],
   "source": [
    "df"
   ]
  },
  {
   "cell_type": "markdown",
   "id": "c3eac2f8-4bdc-48d9-a3bd-e628b1127cff",
   "metadata": {},
   "source": [
    "## Step 3: Add last-to-first mapping"
   ]
  },
  {
   "cell_type": "code",
   "execution_count": 92,
   "id": "75a8b630-d108-4798-b601-0704e9014a11",
   "metadata": {
    "execution": {
     "iopub.execute_input": "2024-11-05T11:58:01.363251Z",
     "iopub.status.busy": "2024-11-05T11:58:01.362814Z",
     "iopub.status.idle": "2024-11-05T11:58:01.373579Z",
     "shell.execute_reply": "2024-11-05T11:58:01.372331Z",
     "shell.execute_reply.started": "2024-11-05T11:58:01.363221Z"
    }
   },
   "outputs": [
    {
     "data": {
      "text/plain": [
       "{'$1': 0, 'A1': 1, 'A2': 2, 'A3': 3, 'B1': 4, 'N1': 5, 'N2': 6}"
      ]
     },
     "execution_count": 92,
     "metadata": {},
     "output_type": "execute_result"
    }
   ],
   "source": [
    "MAPPING = {k:v for k,v in zip(df['first_sub'].values, range(len(df)))}\n",
    "MAPPING"
   ]
  },
  {
   "cell_type": "code",
   "execution_count": 113,
   "id": "1b044297-1d86-452d-89ac-e329a4fb63e4",
   "metadata": {
    "execution": {
     "iopub.execute_input": "2024-11-05T12:03:16.616217Z",
     "iopub.status.busy": "2024-11-05T12:03:16.615498Z",
     "iopub.status.idle": "2024-11-05T12:03:16.632677Z",
     "shell.execute_reply": "2024-11-05T12:03:16.631846Z",
     "shell.execute_reply.started": "2024-11-05T12:03:16.616164Z"
    }
   },
   "outputs": [
    {
     "data": {
      "text/html": [
       "<div>\n",
       "<style scoped>\n",
       "    .dataframe tbody tr th:only-of-type {\n",
       "        vertical-align: middle;\n",
       "    }\n",
       "\n",
       "    .dataframe tbody tr th {\n",
       "        vertical-align: top;\n",
       "    }\n",
       "\n",
       "    .dataframe thead th {\n",
       "        text-align: right;\n",
       "    }\n",
       "</style>\n",
       "<table border=\"1\" class=\"dataframe\">\n",
       "  <thead>\n",
       "    <tr style=\"text-align: right;\">\n",
       "      <th></th>\n",
       "      <th>first</th>\n",
       "      <th>last</th>\n",
       "      <th>first_sub</th>\n",
       "      <th>last_sub</th>\n",
       "      <th>L2F</th>\n",
       "    </tr>\n",
       "  </thead>\n",
       "  <tbody>\n",
       "    <tr>\n",
       "      <th>0</th>\n",
       "      <td>$</td>\n",
       "      <td>A</td>\n",
       "      <td>$1</td>\n",
       "      <td>A1</td>\n",
       "      <td>1</td>\n",
       "    </tr>\n",
       "    <tr>\n",
       "      <th>1</th>\n",
       "      <td>A</td>\n",
       "      <td>N</td>\n",
       "      <td>A1</td>\n",
       "      <td>N1</td>\n",
       "      <td>5</td>\n",
       "    </tr>\n",
       "    <tr>\n",
       "      <th>2</th>\n",
       "      <td>A</td>\n",
       "      <td>N</td>\n",
       "      <td>A2</td>\n",
       "      <td>N2</td>\n",
       "      <td>6</td>\n",
       "    </tr>\n",
       "    <tr>\n",
       "      <th>3</th>\n",
       "      <td>A</td>\n",
       "      <td>B</td>\n",
       "      <td>A3</td>\n",
       "      <td>B1</td>\n",
       "      <td>4</td>\n",
       "    </tr>\n",
       "    <tr>\n",
       "      <th>4</th>\n",
       "      <td>B</td>\n",
       "      <td>$</td>\n",
       "      <td>B1</td>\n",
       "      <td>$1</td>\n",
       "      <td>0</td>\n",
       "    </tr>\n",
       "    <tr>\n",
       "      <th>5</th>\n",
       "      <td>N</td>\n",
       "      <td>A</td>\n",
       "      <td>N1</td>\n",
       "      <td>A2</td>\n",
       "      <td>2</td>\n",
       "    </tr>\n",
       "    <tr>\n",
       "      <th>6</th>\n",
       "      <td>N</td>\n",
       "      <td>A</td>\n",
       "      <td>N2</td>\n",
       "      <td>A3</td>\n",
       "      <td>3</td>\n",
       "    </tr>\n",
       "  </tbody>\n",
       "</table>\n",
       "</div>"
      ],
      "text/plain": [
       "  first last first_sub last_sub  L2F\n",
       "0     $    A        $1       A1    1\n",
       "1     A    N        A1       N1    5\n",
       "2     A    N        A2       N2    6\n",
       "3     A    B        A3       B1    4\n",
       "4     B    $        B1       $1    0\n",
       "5     N    A        N1       A2    2\n",
       "6     N    A        N2       A3    3"
      ]
     },
     "execution_count": 113,
     "metadata": {},
     "output_type": "execute_result"
    }
   ],
   "source": [
    "df['L2F'] = df.apply(lambda row: MAPPING[row['last_sub']],axis=1)\n",
    "df"
   ]
  },
  {
   "cell_type": "markdown",
   "id": "7058906f-3628-42b3-92e3-40a5c7315c31",
   "metadata": {},
   "source": [
    "We can reconstruct our original database string from this preprocessed data. Here's how:"
   ]
  },
  {
   "attachments": {
    "74b2416d-2f2b-4bc0-9692-3b809171a1dd.png": {
     "image/png": "[encoded data removed]"
    }
   },
   "cell_type": "markdown",
   "id": "ca667953-0979-4064-a9ad-1a9380c92f2a",
   "metadata": {},
   "source": [
    "We can start with the null termination character we added, we know it is in the first row, `first_sub` column, so we retrieve that first.\n",
    "\n",
    "Remember that as part of our preprocessing steps we do rotations of the original database string, and from that rotations we save the first column in `first_sub` and the last column in `last_sub`? So this tells us that `first_sub` and `last_sub` are connected: `last_sub` character comes before `first_sub` character. \n",
    "\n",
    "\n",
    "![image.png](attachment:74b2416d-2f2b-4bc0-9692-3b809171a1dd.png)\n"
   ]
  },
  {
   "cell_type": "markdown",
   "id": "fc440b14-30a2-46b3-b26c-6d664186e0db",
   "metadata": {},
   "source": [
    "To illustrate:\n",
    "1. Start with null termination `$1`.<br>\n",
    "1. Find null termination `$1` in `last_sub` (row 4). The next character follows it is the corresponding character in `first_sub` column (red arrow). Now the reconstructed string is `$1 B1`.<br>\n",
    "1. Find the last added character in the `last_sub`. Add its corresponding `first_sub` to the reconstructed string (blue arrow). Now the reconstructed string is `$1 B1 A3`.<br>\n",
    "1. Continue building the reconstructed string until we reached the character `last_sub` of first row. Why first row? because we started the reconstructed string with `$1` -- which is also the `first_sub` character in our preprocessed data's first row.<br>"
   ]
  },
  {
   "cell_type": "code",
   "execution_count": 167,
   "id": "cc5982e1-a2ad-45d0-94a3-49ad5157a39e",
   "metadata": {
    "execution": {
     "iopub.execute_input": "2024-11-05T15:16:13.006342Z",
     "iopub.status.busy": "2024-11-05T15:16:13.005945Z",
     "iopub.status.idle": "2024-11-05T15:16:13.019296Z",
     "shell.execute_reply": "2024-11-05T15:16:13.018229Z",
     "shell.execute_reply.started": "2024-11-05T15:16:13.006314Z"
    }
   },
   "outputs": [
    {
     "name": "stdout",
     "output_type": "stream",
     "text": [
      "Reconstructed database string (with subscript): $1 B1 A3 N2 A2 N1 A1\n",
      "Reconstructed database string: $BANANA\n",
      "Original database string: BANANA$\n"
     ]
    }
   ],
   "source": [
    "reconstruct = [df.loc[0,'first_sub']]\n",
    "\n",
    "while reconstruct[-1] != df.loc[0,'last_sub']:\n",
    "    last_char = reconstruct[-1]\n",
    "    next_index = df[df['last_sub']==last_char].index.values[0]\n",
    "    next_char = df.loc[df.index==next_index, 'first_sub'].values[0]\n",
    "    reconstruct.append(next_char)\n",
    "\n",
    "reconstructed_str_sub = ' '.join(reconstruct)\n",
    "reconstructed_str = ''.join([c[0] for c in reconstruct])\n",
    "\n",
    "print('Reconstructed database string (with subscript):',reconstructed_str_sub)\n",
    "print('Reconstructed database string:', reconstructed_str)\n",
    "print('Original database string:', db)"
   ]
  },
  {
   "cell_type": "markdown",
   "id": "b586289a-e0df-4cc9-af56-acffbb118e03",
   "metadata": {},
   "source": [
    "We then move the null termination character to the end of the string and we can get back the original database."
   ]
  },
  {
   "cell_type": "markdown",
   "id": "5b0b3194-2ea4-4b5c-bb2e-c9ccd41e10fc",
   "metadata": {},
   "source": [
    "# Pattern Matching using BWT"
   ]
  },
  {
   "cell_type": "markdown",
   "id": "94e668b3-b4fc-404b-9154-3211a245fb8c",
   "metadata": {},
   "source": [
    "Let's try to do pattern matching using the preprocessed BWT from our toy database."
   ]
  },
  {
   "cell_type": "code",
   "execution_count": 169,
   "id": "7d2534d8-a710-40b7-8dd1-da66eb6baf43",
   "metadata": {
    "execution": {
     "iopub.execute_input": "2024-11-05T15:22:00.483367Z",
     "iopub.status.busy": "2024-11-05T15:22:00.482959Z",
     "iopub.status.idle": "2024-11-05T15:22:00.502743Z",
     "shell.execute_reply": "2024-11-05T15:22:00.501230Z",
     "shell.execute_reply.started": "2024-11-05T15:22:00.483339Z"
    }
   },
   "outputs": [
    {
     "name": "stdout",
     "output_type": "stream",
     "text": [
      "Found character: N \n",
      "   first last first_sub last_sub  L2F\n",
      "5     N    A        N1       A2    2\n",
      "6     N    A        N2       A3    3\n",
      "----------------------------------------\n",
      "Found character: A \n",
      "   first last first_sub last_sub  L2F\n",
      "2     A    N        A2       N2    6\n",
      "3     A    B        A3       B1    4\n",
      "----------------------------------------\n",
      "Query \"AN\" found in database sequence starting from: ['A2' 'A3']\n",
      "----------------------------------------\n"
     ]
    }
   ],
   "source": [
    "query = 'AN'\n",
    "\n",
    "ok_range = range(len(df))\n",
    "for c in query[::-1]:\n",
    "    top = df.loc[df.index.isin(ok_range) & (df['last'] == c), 'L2F'].head(1).values[0]\n",
    "    bottom = df.loc[df.index.isin(ok_range) & (df['last'] == c), 'L2F'].tail(1).values[0]\n",
    "    ok_range = range(top, bottom+1)\n",
    "    print('Found character:', c, '\\n', df[df.index.isin(ok_range)])\n",
    "    print('-'*40)\n",
    "\n",
    "# exact match to query sequence is located between the top:bottom position of the preprocessed database\n",
    "query_result = df.loc[df.index.isin(ok_range), 'first_sub'].values\n",
    "print(f'Query \"{query}\" found in database sequence starting from:', query_result)\n",
    "print('-'*40)"
   ]
  },
  {
   "cell_type": "markdown",
   "id": "780b2fa5-85fb-450c-8f62-2169f0f26e0c",
   "metadata": {
    "execution": {
     "iopub.execute_input": "2024-11-05T15:23:14.466269Z",
     "iopub.status.busy": "2024-11-05T15:23:14.465869Z",
     "iopub.status.idle": "2024-11-05T15:23:14.471825Z",
     "shell.execute_reply": "2024-11-05T15:23:14.470404Z",
     "shell.execute_reply.started": "2024-11-05T15:23:14.466241Z"
    }
   },
   "source": [
    "The `query_result` does indeed match.\n",
    "<br>\n",
    "<br>- $1 B1 **A3 N2** A2 N1 A1\n",
    "<br>- $1 B1 A3 N2 **A2 N1** A1"
   ]
  },
  {
   "cell_type": "markdown",
   "id": "b69b3944-5185-41fd-a965-aedf232ee2f8",
   "metadata": {},
   "source": [
    "Let's make this into a function and try another example."
   ]
  },
  {
   "cell_type": "code",
   "execution_count": 228,
   "id": "6e024a69-faf3-4fc9-ab8d-9ec19cc42c20",
   "metadata": {
    "execution": {
     "iopub.execute_input": "2024-11-05T15:54:12.466819Z",
     "iopub.status.busy": "2024-11-05T15:54:12.466402Z",
     "iopub.status.idle": "2024-11-05T15:54:12.488573Z",
     "shell.execute_reply": "2024-11-05T15:54:12.487374Z",
     "shell.execute_reply.started": "2024-11-05T15:54:12.466791Z"
    }
   },
   "outputs": [],
   "source": [
    "def reconstruct_db(df:pd.DataFrame) -> list:\n",
    "    \"\"\"Reconstruct database string using preprocessed data\"\"\"\n",
    "    reconstruct = [df.loc[0,'first_sub']]\n",
    "\n",
    "    while reconstruct[-1] != df.loc[0,'last_sub']:\n",
    "        last_char = reconstruct[-1]\n",
    "        next_index = df[df['last_sub']==last_char].index.values[0]\n",
    "        next_char = df.loc[df.index==next_index, 'first_sub'].values[0]\n",
    "        reconstruct.append(next_char)\n",
    "    return reconstruct\n",
    "\n",
    "def extract_bwt(db:str) -> list:\n",
    "    \"\"\"Extract Burrow-Wheeler Transform from database string\"\"\"\n",
    "    rotations = []\n",
    "    rotations.append(db)\n",
    "    s = db\n",
    "    for i in range(len(db)-1):\n",
    "        s = s[-1] + s[:-1]\n",
    "        rotations.append(s)\n",
    "\n",
    "    BWT = [s[-1] for s in sorted(rotations)]\n",
    "    return BWT\n",
    "\n",
    "def preprocess_database(db:str) -> pd.DataFrame:\n",
    "    \"\"\"Preprocess data from database string\"\"\"\n",
    "    BWT = extract_bwt(db)\n",
    "    df = pd.DataFrame({'first': sorted(db), 'last': BWT})\n",
    "\n",
    "    ### adding subscript for first column (sorted original database)\n",
    "    dbcounter = Counter(db)    \n",
    "    sorted_db_subs = []\n",
    "    for c in sorted(db, reverse=True):\n",
    "        sorted_db_subs.append(c + str(dbcounter[c]))\n",
    "        dbcounter[c] = dbcounter[c] - 1\n",
    "    sorted_db_subs = sorted(sorted_db_subs)\n",
    "\n",
    "    ### adding subscript for last column (BWT)\n",
    "    dbcounter = Counter(BWT)\n",
    "    bwt_subs = []\n",
    "    for c in BWT[::-1]:\n",
    "        bwt_subs.append(c + str(dbcounter[c]))\n",
    "        dbcounter[c] = dbcounter[c] - 1\n",
    "    bwt_subs = bwt_subs[::-1]\n",
    "\n",
    "    df['first_sub'] = sorted_db_subs\n",
    "    df['last_sub'] = bwt_subs\n",
    "\n",
    "    MAPPING = {k:v for k,v in zip(df['first_sub'].values, range(len(df)))}\n",
    "    df['L2F'] = df.apply(lambda row: MAPPING[row['last_sub']],axis=1)\n",
    "    return df\n",
    "\n",
    "\n",
    "\n",
    "def query_bwt(query:str, df:pd.DataFrame) -> list:\n",
    "    \"\"\"Perform query matching against preprocessed data using BWT\"\"\"\n",
    "    BOLD = '\\033[1m'\n",
    "    END_BOLD = '\\033[0m'\n",
    "\n",
    "    reconstruct = reconstruct_db(df)\n",
    "    ok_range = range(len(df))\n",
    "    for c in query[::-1]:\n",
    "        top_row = df.loc[df.index.isin(ok_range) & (df['last'] == c), 'L2F'].head(1)\n",
    "        bottom_row = df.loc[df.index.isin(ok_range) & (df['last'] == c), 'L2F'].tail(1)\n",
    "        if len(top_row) > 0 and len(bottom_row) > 0:\n",
    "            top = top_row.values[0]\n",
    "            bottom = bottom_row.values[0]\n",
    "        else:\n",
    "            print(f'Query \"{query}\" not found in database.')\n",
    "            return []\n",
    "\n",
    "        ok_range = range(top, bottom+1)\n",
    "        print('Found character:', c, '\\n', df[df.index.isin(ok_range)])\n",
    "        print('-'*40)\n",
    "    \n",
    "    # exact match to query sequence is located between the top:bottom position of the preprocessed database\n",
    "    query_result = df.loc[df.index.isin(ok_range), 'first_sub'].values\n",
    "    print(f'Query \"{query}\" found in database sequence starting from:', query_result)\n",
    "    print()\n",
    "    for i,q in enumerate(query_result):\n",
    "        print(i+1, ')\\t', *[BOLD+r+END_BOLD if r == q else r for r in recons])\n",
    "        print()\n",
    "    print('-'*40)\n",
    "    return query_result"
   ]
  },
  {
   "cell_type": "code",
   "execution_count": 221,
   "id": "75bd22fc-1c19-400e-9f0b-59ab560d75db",
   "metadata": {
    "execution": {
     "iopub.execute_input": "2024-11-05T15:50:10.297308Z",
     "iopub.status.busy": "2024-11-05T15:50:10.296883Z",
     "iopub.status.idle": "2024-11-05T15:50:10.321700Z",
     "shell.execute_reply": "2024-11-05T15:50:10.319875Z",
     "shell.execute_reply.started": "2024-11-05T15:50:10.297279Z"
    }
   },
   "outputs": [
    {
     "name": "stdout",
     "output_type": "stream",
     "text": [
      "Found character: A \n",
      "   first last first_sub last_sub  L2F\n",
      "1     A    N        A1       N1    5\n",
      "2     A    N        A2       N2    6\n",
      "3     A    B        A3       B1    4\n",
      "----------------------------------------\n",
      "Found character: N \n",
      "   first last first_sub last_sub  L2F\n",
      "5     N    A        N1       A2    2\n",
      "6     N    A        N2       A3    3\n",
      "----------------------------------------\n",
      "Query \"NA\" found in database sequence starting from: ['N1' 'N2']\n",
      "\n",
      "1 )\t $1 B1 A3 N2 A2 \u001b[1mN1\u001b[0m A1\n",
      "\n",
      "2 )\t $1 B1 A3 \u001b[1mN2\u001b[0m A2 N1 A1\n",
      "\n",
      "----------------------------------------\n"
     ]
    },
    {
     "data": {
      "text/plain": [
       "array(['N1', 'N2'], dtype=object)"
      ]
     },
     "execution_count": 221,
     "metadata": {},
     "output_type": "execute_result"
    }
   ],
   "source": [
    "query = 'NA'\n",
    "\n",
    "df2 = preprocess_database(\"BANANA$\")\n",
    "query_bwt(query, df2)"
   ]
  },
  {
   "cell_type": "code",
   "execution_count": 222,
   "id": "c2cc17d4-c825-4031-871b-8676eb782650",
   "metadata": {
    "execution": {
     "iopub.execute_input": "2024-11-05T15:50:41.054704Z",
     "iopub.status.busy": "2024-11-05T15:50:41.054176Z",
     "iopub.status.idle": "2024-11-05T15:50:41.082976Z",
     "shell.execute_reply": "2024-11-05T15:50:41.082073Z",
     "shell.execute_reply.started": "2024-11-05T15:50:41.054674Z"
    }
   },
   "outputs": [
    {
     "name": "stdout",
     "output_type": "stream",
     "text": [
      "Found character: N \n",
      "   first last first_sub last_sub  L2F\n",
      "5     N    A        N1       A2    2\n",
      "6     N    A        N2       A3    3\n",
      "----------------------------------------\n",
      "Found character: A \n",
      "   first last first_sub last_sub  L2F\n",
      "2     A    N        A2       N2    6\n",
      "3     A    B        A3       B1    4\n",
      "----------------------------------------\n",
      "Found character: N \n",
      "   first last first_sub last_sub  L2F\n",
      "6     N    A        N2       A3    3\n",
      "----------------------------------------\n",
      "Query \"NAN\" found in database sequence starting from: ['N2']\n",
      "\n",
      "1 )\t $1 B1 A3 \u001b[1mN2\u001b[0m A2 N1 A1\n",
      "\n",
      "----------------------------------------\n"
     ]
    },
    {
     "data": {
      "text/plain": [
       "array(['N2'], dtype=object)"
      ]
     },
     "execution_count": 222,
     "metadata": {},
     "output_type": "execute_result"
    }
   ],
   "source": [
    "query = 'NAN'\n",
    "\n",
    "df2 = preprocess_database(\"BANANA$\")\n",
    "query_bwt(query, df2)"
   ]
  },
  {
   "cell_type": "code",
   "execution_count": 229,
   "id": "2afae39b-c075-43c4-95a6-a934bf08c742",
   "metadata": {
    "execution": {
     "iopub.execute_input": "2024-11-05T15:54:14.542775Z",
     "iopub.status.busy": "2024-11-05T15:54:14.542356Z",
     "iopub.status.idle": "2024-11-05T15:54:14.558627Z",
     "shell.execute_reply": "2024-11-05T15:54:14.557853Z",
     "shell.execute_reply.started": "2024-11-05T15:54:14.542745Z"
    }
   },
   "outputs": [
    {
     "name": "stdout",
     "output_type": "stream",
     "text": [
      "Found character: N \n",
      "   first last first_sub last_sub  L2F\n",
      "5     N    A        N1       A2    2\n",
      "6     N    A        N2       A3    3\n",
      "----------------------------------------\n",
      "Query \"NANN\" not found in database.\n"
     ]
    },
    {
     "data": {
      "text/plain": [
       "[]"
      ]
     },
     "execution_count": 229,
     "metadata": {},
     "output_type": "execute_result"
    }
   ],
   "source": [
    "query = 'NANN'\n",
    "\n",
    "df2 = preprocess_database(\"BANANA$\")\n",
    "query_bwt(query, df2)"
   ]
  },
  {
   "cell_type": "markdown",
   "id": "b4be5a52-54f5-47c3-88cf-a0887b902b90",
   "metadata": {},
   "source": [
    "References & Credits:<br>\n",
    "1. <a href=\"https://www.youtube.com/watch?v=Lc-ACiJIrnM&list=PLM_KIlU0WoXmkV4QB1Dg8PtJaHTdWHwRS&index=74&pp=iAQB\">Advance Data Structures: Burrows-Wheeler Transform (BWT)</a><br>\n",
    "1. <a href=\"https://www.youtube.com/watch?v=ni_w-rdItG8&pp=ygURaG93IHRvIGludmVydCBid3Q%3D\">Advance Data Structures: Inverting the BWT</a><br>\n",
    "1. <a href=\"https://www.youtube.com/watch?v=uKreghMwLLE&list=PLM_KIlU0WoXmkV4QB1Dg8PtJaHTdWHwRS&index=76&pp=iAQB\">Advance Data Structures: Pattern Matching Using the BWT</a><br>\n",
    "1. <a href=\"https://stackoverflow.com/a/17303428\">StackOverflow: How to print bold text in python</a><br>"
   ]
  }
 ],
 "metadata": {
  "kernelspec": {
   "display_name": "Python 3.10 (bio)",
   "language": "python",
   "name": "bio"
  },
  "language_info": {
   "codemirror_mode": {
    "name": "ipython",
    "version": 3
   },
   "file_extension": ".py",
   "mimetype": "text/x-python",
   "name": "python",
   "nbconvert_exporter": "python",
   "pygments_lexer": "ipython3",
   "version": "3.10.14"
  }
 },
 "nbformat": 4,
 "nbformat_minor": 5
}

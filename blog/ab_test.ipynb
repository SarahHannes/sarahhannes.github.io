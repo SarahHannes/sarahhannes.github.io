{
 "cells": [
  {
   "cell_type": "markdown",
   "metadata": {},
   "source": [
    "---\n",
    "title: \"Condensed A/B Test Summary\"\n",
    "execute: \n",
    "  enabled: false\n",
    "  freeze: true\n",
    "date: \"9/10/2024\"\n",
    "categories: [AB Test]\n",
    "---\n"
   ]
  },
  {
   "cell_type": "markdown",
   "metadata": {},
   "source": [
    "Condensed summary of A/B Test course by <a href=\"https://data36.com/tag/ab-test/\">Data36</a>. You can download the mind map <a href=\"www.mindomo.com/mindmap/ab-test-c8a1fbd9f65e4b16be9d1060bee2d88e\">here</a>."
   ]
  },
  {
   "cell_type": "code",
   "execution_count": 21,
   "metadata": {},
   "outputs": [
    {
     "data": {
      "text/html": [
       "<iframe style=\"width:100%;height:1500px;border: 1px solid #d0d0d0;border-radius: 6px;\" src=\"https://www.mindomo.com/mindmap/ab-test-c8a1fbd9f65e4b16be9d1060bee2d88e\" frameborder=\"0\" allowfullscreen>Your browser does not support frames. <a href=\"https://www.mindomo.com/mindmap/ab-test-c8a1fbd9f65e4b16be9d1060bee2d88e\" target=\"_blank\">View</a> this map on its original site. It was created using <a href=\"https://www.mindomo.com\" target=\"_blank\">Mindomo</a>.</iframe>"
      ],
      "text/plain": [
       "<IPython.core.display.HTML object>"
      ]
     },
     "metadata": {},
     "output_type": "display_data"
    }
   ],
   "source": [
    "\n",
    "from IPython.display import display, HTML\n",
    "\n",
    "display(HTML('<iframe style=\"width:100%;height:1500px;border: 1px solid #d0d0d0;border-radius: 6px;\" src=\"https://www.mindomo.com/mindmap/ab-test-c8a1fbd9f65e4b16be9d1060bee2d88e\" frameborder=\"0\" allowfullscreen>Your browser does not support frames. <a href=\"https://www.mindomo.com/mindmap/ab-test-c8a1fbd9f65e4b16be9d1060bee2d88e\" target=\"_blank\">View</a> this map on its original site. It was created using <a href=\"https://www.mindomo.com\" target=\"_blank\">Mindomo</a>.</iframe>'));\n"
   ]
  }
 ],
 "metadata": {
  "kernelspec": {
   "display_name": "bio",
   "language": "python",
   "name": "python3"
  },
  "language_info": {
   "codemirror_mode": {
    "name": "ipython",
    "version": 3
   },
   "file_extension": ".py",
   "mimetype": "text/x-python",
   "name": "python",
   "nbconvert_exporter": "python",
   "pygments_lexer": "ipython3",
   "version": "3.10.14"
  }
 },
 "nbformat": 4,
 "nbformat_minor": 2
}

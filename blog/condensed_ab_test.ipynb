{
 "cells": [
  {
   "cell_type": "markdown",
   "metadata": {},
   "source": [
    "---\n",
    "title: \"(Condensed Summary) A/B Test Like a Pro course\"\n",
    "execute: \n",
    "  enabled: true\n",
    "  freeze: true\n",
    "date: \"8/31/2024\"\n",
    "date-modified: \"9/14/2024\"\n",
    "categories: [A/B test]\n",
    "---\n"
   ]
  },
  {
   "cell_type": "code",
   "execution_count": null,
   "metadata": {
    "vscode": {
     "languageId": "html"
    }
   },
   "outputs": [],
   "source": [
    "<iframe width=\"500\" height=\"500\" style=\"border: 1px solid #d0d0d0;border-radius: 6px;\"src=\"https://www.mindomo.com/mindmap/ab-test-c8a1fbd9f65e4b16be9d1060bee2d88e\" frameborder=\"0\" allowfullscreen>Your browser does not support frames. <a href=\"https://www.mindomo.com/mindmap/ab-test-c8a1fbd9f65e4b16be9d1060bee2d88e\" target=\"_blank\">View</a> this map on its original site. It was created using <a href=\"https://www.mindomo.com\" target=\"_blank\">Mindomo</a>.</iframe>"
   ]
  }
 ],
 "metadata": {
  "language_info": {
   "name": "python"
  }
 },
 "nbformat": 4,
 "nbformat_minor": 2
}

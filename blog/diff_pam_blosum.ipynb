{
 "cells": [
  {
   "cell_type": "markdown",
   "metadata": {},
   "source": [
    "---\n",
    "title: \"Differences between: PAM vs BLOSUM\"\n",
    "execute: \n",
    "  enabled: false\n",
    "  freeze: true\n",
    "date: \"10/9/2024\"\n",
    "categories: [biology, differences]\n",
    "---\n"
   ]
  },
  {
   "cell_type": "markdown",
   "metadata": {},
   "source": [
    "> PAM and BLOSUM are both substitution matrix for amino acid. This is a high level overview of their differences."
   ]
  },
  {
   "cell_type": "markdown",
   "metadata": {},
   "source": [
    "You can download the image from <a href=\"https://drive.google.com/file/d/1fjtAgobn9ve0DzsDLo7zAyWCGsUtPXRA/view?usp=sharing\">here</a>."
   ]
  },
  {
   "cell_type": "code",
   "execution_count": 2,
   "metadata": {},
   "outputs": [
    {
     "data": {
      "text/html": [
       "<iframe frameborder=\"0\" style=\"width:100%;height:800px;\" src=\"https://viewer.diagrams.net/?tags=%7B%7D&lightbox=1&highlight=0000ff&edit=_blank&layers=1&nav=1&title=blosumVSpam.drawio#Uhttps%3A%2F%2Fdrive.google.com%2Fuc%3Fid%3D1fjtAgobn9ve0DzsDLo7zAyWCGsUtPXRA%26export%3Ddownload\"></iframe>"
      ],
      "text/plain": [
       "<IPython.core.display.HTML object>"
      ]
     },
     "metadata": {},
     "output_type": "display_data"
    }
   ],
   "source": [
    "from IPython.display import display, HTML\n",
    "import warnings\n",
    "\n",
    "warnings.filterwarnings(\"ignore\")\n",
    "display(HTML('<iframe frameborder=\"0\" style=\"width:100%;height:800px;\" src=\"https://viewer.diagrams.net/?tags=%7B%7D&lightbox=1&highlight=0000ff&edit=_blank&layers=1&nav=1&title=blosumVSpam.drawio#Uhttps%3A%2F%2Fdrive.google.com%2Fuc%3Fid%3D1fjtAgobn9ve0DzsDLo7zAyWCGsUtPXRA%26export%3Ddownload\"></iframe>'));"
   ]
  },
  {
   "cell_type": "markdown",
   "metadata": {},
   "source": [
    "#### Reference & credit:"
   ]
  },
  {
   "cell_type": "markdown",
   "metadata": {},
   "source": [
    "1. <a href=\"https://youtu.be/68lF71zEUF8?si=KFi53Gfc2VOMN17J\">Dr. Rob Edwards: BLAST playlist</a><br>\n",
    "1. <a href=\"https://en.wikipedia.org/wiki/Tyrosine\">Wikipedia: Tyrosine</a><br>\n",
    "1. <a href=\"https://en.wikipedia.org/wiki/Phenylalanin\">Wikipedia: Phenylalanin</a><br>\n",
    "1. <a href=\"https://www.hgvs.org/mutnomen/codon.html\">Human Genome Variation Society: Codon & amino acids</a><br>"
   ]
  }
 ],
 "metadata": {
  "kernelspec": {
   "display_name": "bio",
   "language": "python",
   "name": "python3"
  },
  "language_info": {
   "codemirror_mode": {
    "name": "ipython",
    "version": 3
   },
   "file_extension": ".py",
   "mimetype": "text/x-python",
   "name": "python",
   "nbconvert_exporter": "python",
   "pygments_lexer": "ipython3",
   "version": "3.10.14"
  }
 },
 "nbformat": 4,
 "nbformat_minor": 2
}

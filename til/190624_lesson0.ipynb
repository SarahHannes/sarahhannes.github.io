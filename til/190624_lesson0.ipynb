{
 "cells": [
  {
   "cell_type": "markdown",
   "metadata": {},
   "source": [
    "\n",
    "\n",
    "---\n",
    "title: \"Fastai Lesson0 Key Insights\"\n",
    "execute: \n",
    "  enabled: false\n",
    "  freeze: true\n",
    "date: \"6/19/2024\"\n",
    "categories: [fastai, deep learning]\n",
    "---\n"
   ]
  },
  {
   "cell_type": "markdown",
   "metadata": {
    "vscode": {
     "languageId": "plaintext"
    }
   },
   "source": [
    "> Notes I made while listening to <a href=\"https://www.youtube.com/watch?v=gGxe2mN3kAg\">Fastai Lesson0</a>\n"
   ]
  },
  {
   "cell_type": "markdown",
   "metadata": {},
   "source": [
    "\n",
    "- Finish the course.\n",
    "\t- \"Tenacity\" is a choice\n",
    "\t- \"Tenacity\" is not about ignoring the bumps but it is keeping going after the bumps\n",
    "- Radek's book <a href=\"https://radekosmulski.gumroad.com/l/learn_deep_learning\">Meta Learning: How to Learn Deep Learning And Thrive In The Digital World</a>:\n",
    "\t- 4-legged table that will help you do your deep learning experiments more effectively and efficiently:\n",
    "\t\t- Code concepts: knowing the basic ideas around the code\n",
    "\t\t- Editor: knowing your tools\n",
    "\t\t- git & github: knowing how to save your work, how to pull people's work\n",
    "\t\t- ssh/ Linux: knowing how to access a server and do stuff with it\n",
    "- There's nothing to be ashamed of if you've never used git or ssh or whatever, they are just tools that most people have to figure out in the journey.\n",
    "- Recommended MOOC to get started on programming:\n",
    "\t- <a href=\"https://pll.harvard.edu/course/cs50-introduction-computer-science\">Harvard CS50</a>\n",
    "\t- <a href=\"https://missing.csail.mit.edu/\">The Missing Semester of Your CS Education</a>\n",
    "- Focus on making 1 project great and polishing it off and finishing it.\n",
    "\t- The project doesn't have to be a pioneer\n",
    "- Write a blog.\n",
    "\t- Good place to start: write down a talk/video that you like. Doing this helps the person giving the talk reaching people using a second medium, and help others learning about the talk in writings (a lot of poeple prefer reading than listening).\n",
    "- Create a good validation set.\n",
    "\t- <a href=\"https://www.fast.ai/posts/2017-11-13-validation-sets.html\">Blog post by Rachel Thomas</a>\n",
    "- Always start with a simple baseline.\n",
    "\t- A baseline: the simplest model you can that you know can solve the problem so simply that you can't make any mistakes. Below are some example baselines:\n",
    "\t\t- Taking the average of your data as the ypred for each 'group'\n",
    "\t- In deep learning, it is much harder to see that you are wrong, often it is just going to be half percent less accurate etc. For example, it could be that you unknowingly fed in images are upside down, and trained a model that can only recognize upside down images.\n",
    "- Successful machine learning projects:\n",
    "\t- Create the simplest possible solution that gets something all the way from end-to-end.\n",
    "\t- Gradually making it slightly better.\n",
    "- Do Kaggle competition as your project.\n",
    "\t- Mindset: To do your best, instead of trying to win on your first competition.\n",
    "- Important ingredients on finding a job:\n",
    "\t- Portfolio: blog posts, github projects, community engagement\n"
   ]
  }
 ],
 "metadata": {
  "language_info": {
   "name": "python"
  }
 },
 "nbformat": 4,
 "nbformat_minor": 2
}

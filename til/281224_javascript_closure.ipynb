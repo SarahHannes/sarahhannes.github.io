{
 "cells": [
  {
   "cell_type": "markdown",
   "metadata": {},
   "source": [
    "---\n",
    "title: \"Notes on Javascript Nested Functions\"\n",
    "execute: \n",
    "  enabled: false\n",
    "  freeze: true\n",
    "date: \"12/28/2024\"\n",
    "categories: [javascript]\n",
    "---\n"
   ]
  },
  {
   "cell_type": "markdown",
   "metadata": {},
   "source": [
    "> Notes on Javascript nested functions"
   ]
  },
  {
   "cell_type": "markdown",
   "metadata": {},
   "source": [
    "# Example 1"
   ]
  },
  {
   "cell_type": "code",
   "execution_count": 39,
   "metadata": {},
   "outputs": [
    {
     "name": "stdout",
     "output_type": "stream",
     "text": [
      "\u001b[33m8\u001b[39m\n",
      "\u001b[33m8\u001b[39m\n"
     ]
    }
   ],
   "source": [
    "%%script node\n",
    "function outside(x) {\n",
    "    function inside(y) {\n",
    "      return x + y;\n",
    "    }\n",
    "    return inside;\n",
    "  }\n",
    "  \n",
    "  const myfunction = outside(3); // Think of it like: give me a function that adds 3 to whatever you give it\n",
    "  console.log(myfunction(5)); // 8\n",
    "\n",
    "  // the above is the same as running this:\n",
    "  console.log(outside(3)(5)); // 8"
   ]
  },
  {
   "cell_type": "markdown",
   "metadata": {},
   "source": [
    "## Line by line explanation & notes\n",
    "- `const myfunction = outside(3)`\n",
    "> Here we define `myfunction` variable with `outside(3)`, doing so created a new scope with `x = 3`. This `x` is preserved in this scope, ie `x` inside `myfunction` scope will always be 3, because we initialized it as `myfunction = outside(3)`.\n",
    "\n",
    "> Each time we initialize `outside`, a new scope is created. This is similar to how class object works -- `x` here is like an attribute of a class object and `myfunction` is an object instance -- except using nested functions, we can not directly inspect or access `x`.\n",
    "\n",
    "- `myfunction(5)`\n",
    "> Here we call the variable containing the `outside(3)` function we initialized. The argument we passed `5` will be passed as `y`. Since we have initialized `x = 3` previously, the `inside` function will return `x + y` which is `3 + 5`.\n",
    "\n",
    "- `inside` function can access variable defined in `outside` function. However `outside` function can not access anything defined in `inside` function.\n",
    "> This is different from python --> when we defined nested functions, the outer function can access anything that is defined within itself since whatever defined within it is its local scope.\n"
   ]
  },
  {
   "cell_type": "markdown",
   "metadata": {},
   "source": [
    "# Example 2"
   ]
  },
  {
   "cell_type": "code",
   "execution_count": 40,
   "metadata": {},
   "outputs": [
    {
     "name": "stdout",
     "output_type": "stream",
     "text": [
      "\u001b[33m20\u001b[39m\n"
     ]
    }
   ],
   "source": [
    "%%script node\n",
    "function outside() {\n",
    "  const x = 5;\n",
    "  function inside(x) {\n",
    "    return x * 2;\n",
    "  }\n",
    "  return inside;\n",
    "}\n",
    "\n",
    "console.log(outside()(10)); // 20 (instead of 10)\n"
   ]
  },
  {
   "cell_type": "markdown",
   "metadata": {},
   "source": [
    "## Line by line explanation & notes\n",
    "- `outside()(10)`\n",
    "> `outside()` created a new scope. `(10)` is where we call `inside(10)` inside the `outside()` scope. Therefore `x=10` in the `inside()` function.\n",
    "\n",
    "- In nested function, the innermost function takes more precedence than the outside function. \n",
    "> When we call `outside()(10)`, we initialized `x=10` within `inside()` function. Since `inside()` scope is of higher precedence than `outside()`, `const x = 5` we defined in `outside()` function scope is overrode.\n",
    "\n",
    "- The scope of chain here is `inside()` ==> `outside()` ==> global object.\n",
    "\n"
   ]
  },
  {
   "cell_type": "markdown",
   "metadata": {},
   "source": [
    "# Example 3"
   ]
  },
  {
   "cell_type": "code",
   "execution_count": 41,
   "metadata": {},
   "outputs": [
    {
     "name": "stdout",
     "output_type": "stream",
     "text": [
      "some-api-code--some-other-code-added-in-inner-function\n"
     ]
    }
   ],
   "source": [
    "%%script node\n",
    "const getCode = (\n",
    "  \n",
    "  // outer function (anonymous function)\n",
    "  function () {\n",
    "    const apiCode = \"some-api-code\"; // A code we do not want outsiders to be able to modify…\n",
    "\n",
    "    // nested inner function (anonymous function)\n",
    "    return function () {\n",
    "      return apiCode + '--some-other-code-added-in-inner-function';\n",
    "    };\n",
    "      \n",
    "  })();\n",
    "\n",
    "console.log(getCode()); \n"
   ]
  },
  {
   "cell_type": "markdown",
   "metadata": {},
   "source": [
    "## Line by line explanation & notes\n",
    "- On line 5, we define outer function here.\n",
    "```\n",
    "function () {\n",
    "    const apiCode = \"some-api-code\";\n",
    "    ...\n",
    "}\n",
    "```\n",
    "- On line 9 - line 11, we define another function within the outer function.\n",
    "```\n",
    "return function () {\n",
    "      return apiCode + '--some-other-code-added-in-inner-function';\n",
    "    };\n",
    "```\n",
    "\n",
    "- `();` on line 13 immediately invoke the outer function. The outer function then assign its return value (the inner function) to getCode."
   ]
  },
  {
   "cell_type": "markdown",
   "metadata": {},
   "source": [
    "# Example 4"
   ]
  },
  {
   "cell_type": "code",
   "execution_count": 25,
   "metadata": {},
   "outputs": [
    {
     "name": "stdout",
     "output_type": "stream",
     "text": [
      "\u001b[36m[Function (anonymous)]\u001b[39m\n"
     ]
    }
   ],
   "source": [
    "%%script node\n",
    "const getCode = (\n",
    "  \n",
    "  // outer function (anonymous function)\n",
    "  function () {\n",
    "    const apiCode = \"some-api-code\"; // A code we do not want outsiders to be able to modify…\n",
    "\n",
    "    // nested inner function (anonymous function)\n",
    "    return function () {\n",
    "      return apiCode + '--some-other-code-added-in-inner-function';\n",
    "    };\n",
    "      \n",
    "  })();\n",
    "\n",
    "console.log(getCode); // here we just save the outer function in `getCode` variable but did not call it\n"
   ]
  },
  {
   "cell_type": "markdown",
   "metadata": {},
   "source": [
    "# Example 5"
   ]
  },
  {
   "cell_type": "code",
   "execution_count": 42,
   "metadata": {},
   "outputs": [
    {
     "name": "stdout",
     "output_type": "stream",
     "text": [
      "this is from outer function\n",
      "-------\n",
      "\u001b[36m[Function (anonymous)]\u001b[39m\n",
      "-------\n",
      "this is from inner function\n",
      "some-api-code--some-other-code-added-in-inner-function\n"
     ]
    }
   ],
   "source": [
    "%%script node\n",
    "const getCode = function () {\n",
    "    const apiCode = \"some-api-code\"; \n",
    "    console.log(\"this is from outer function\");\n",
    "    return function () {\n",
    "        console.log(\"this is from inner function\");\n",
    "        return apiCode + '--some-other-code-added-in-inner-function';\n",
    "    };\n",
    "};\n",
    "\n",
    "\n",
    "const myfunct = getCode(); // calls the outer function\n",
    "\n",
    "console.log('-------')\n",
    "console.log(myfunct); // we saved the outer function in this variable - outer function contains the inner function\n",
    "\n",
    "console.log('-------')\n",
    "console.log(myfunct()); // explicitly call the inner function\n"
   ]
  },
  {
   "cell_type": "markdown",
   "metadata": {},
   "source": [
    "\n",
    "- If we don't directly invoke the outer function at end of outer function definition, we would have to explicitly call the outer function. See example above."
   ]
  },
  {
   "cell_type": "markdown",
   "metadata": {},
   "source": [
    "# Example 6: Multiple Arguments"
   ]
  },
  {
   "cell_type": "code",
   "execution_count": null,
   "metadata": {},
   "outputs": [
    {
     "name": "stdout",
     "output_type": "stream",
     "text": [
      "sage. basil. oregano. pepper. parsley. \n"
     ]
    }
   ],
   "source": [
    "%%script node\n",
    "function myConcat(separator) {\n",
    "  let result = \"\"; // initialize list\n",
    "  // iterate through arguments\n",
    "  for (let i = 1; i < arguments.length; i++) {\n",
    "    result += arguments[i] + separator;\n",
    "  }\n",
    "  return result;\n",
    "}\n",
    "\n",
    "console.log(myConcat(\". \", \"sage\", \"basil\", \"oregano\", \"pepper\", \"parsley\")); // \"sage. basil. oregano. pepper. parsley. \""
   ]
  },
  {
   "cell_type": "markdown",
   "metadata": {},
   "source": [
    "## Line by line explanation & notes\n",
    "- Within the function, arguments are maintained like an array and can be accessed like so `arguments[i];`. Where `i` is the index of the arguments, starting at 0.\n",
    "- This means, you can pass any number of arguments when you call the function. Eg above `myConcat(\". \", \"sage\", \"basil\", \"oregano\", \"pepper\", \"parsley\");`. Note that in the function definition we only specify 1 parameter `myConcat(separator)`. This is different than python where we need to have to pass the same number of arguments as we defined in the function definition."
   ]
  },
  {
   "cell_type": "markdown",
   "metadata": {},
   "source": [
    "# Example 7: Object with methods"
   ]
  },
  {
   "cell_type": "code",
   "execution_count": 54,
   "metadata": {},
   "outputs": [
    {
     "name": "stdout",
     "output_type": "stream",
     "text": [
      "Example 1 -------------- \n",
      "\u001b[33m14\u001b[39m\n",
      "\u001b[33m9\u001b[39m\n",
      "Example 2 -------------- \n",
      "\u001b[33m7\u001b[39m\n",
      "\u001b[33m2\u001b[39m\n"
     ]
    }
   ],
   "source": [
    "%%script node\n",
    "\n",
    "const myCalc = function(val1) {\n",
    "\n",
    "    return {\n",
    "        // anonymous function here\n",
    "        add: function(val2) {\n",
    "            return val1 + val2\n",
    "        },\n",
    "\n",
    "        subtract: function(val2) {\n",
    "            return val1 - val2\n",
    "        }\n",
    "\n",
    "    }\n",
    "};\n",
    "\n",
    "console.log('Example 1 -------------- ')\n",
    "calc1 = myCalc(10);\n",
    "console.log(calc1.add(4)); // 10 + 4 = 14\n",
    "console.log(calc1.subtract(1)); // 10 - 1 = 9\n",
    "\n",
    "console.log('Example 2 -------------- ')\n",
    "calc2 = myCalc(5);\n",
    "console.log(calc2.add(2)); // 5 + 2 = 7\n",
    "console.log(calc2.subtract(3)); // 5 - 3 = 2"
   ]
  },
  {
   "cell_type": "markdown",
   "metadata": {},
   "source": [
    "- At a glance, the above looks like a function containing a dictionary of functions (using python terminology). In Javascript, this is called object with methods.\n",
    "- `calc1 = myCalc(10);`\n",
    "Here we initialized `calc1` with outer function scope of `val1 = 10`.\n",
    "- Notice we can directly call the inner functions using dot notation, similar to how we would do to class object. This is possible because we returned the object `return {add: function() {...}, subtract: function() {...} }`.\n",
    "- In the example above, we use anonymous function. The syntax is:\n",
    "```\n",
    "function outer_func() {\n",
    "\n",
    "    return {\n",
    "\n",
    "        inner_func1: function() {\n",
    "            return ...;\n",
    "        },\n",
    "\n",
    "        inner_func2: function() {\n",
    "            return ...;\n",
    "        }\n",
    "\n",
    "    }\n",
    "\n",
    "}\n",
    "```\n",
    "\n"
   ]
  },
  {
   "cell_type": "code",
   "execution_count": 55,
   "metadata": {},
   "outputs": [
    {
     "name": "stdout",
     "output_type": "stream",
     "text": [
      "Example 1 -------------- \n",
      "\u001b[33m14\u001b[39m\n",
      "\u001b[33m9\u001b[39m\n",
      "Example 2 -------------- \n",
      "\u001b[33m7\u001b[39m\n",
      "\u001b[33m2\u001b[39m\n"
     ]
    }
   ],
   "source": [
    "%%script node\n",
    "\n",
    "const myCalc = function(val1) {\n",
    "\n",
    "    // named function here\n",
    "    function add(val2) {\n",
    "            return val1 + val2\n",
    "    }\n",
    "\n",
    "    function subtract(val2) {\n",
    "        return val1 - val2\n",
    "    }\n",
    "\n",
    "    return {add, subtract};\n",
    "};\n",
    "\n",
    "console.log('Example 1 -------------- ')\n",
    "calc1 = myCalc(10);\n",
    "console.log(calc1.add(4)); // 10 + 4 = 14\n",
    "console.log(calc1.subtract(1)); // 10 - 1 = 9\n",
    "\n",
    "console.log('Example 2 -------------- ')\n",
    "calc2 = myCalc(5);\n",
    "console.log(calc2.add(2)); // 5 + 2 = 7\n",
    "console.log(calc2.subtract(3)); // 5 - 3 = 2"
   ]
  },
  {
   "cell_type": "markdown",
   "metadata": {},
   "source": [
    "- Above is another way to return the same methods. Here we use named functions. The syntax is:\n",
    "```\n",
    "function outer_func() {\n",
    "\n",
    "    function inner_func1() {\n",
    "        return ...;\n",
    "    }\n",
    "\n",
    "    function inner_func2() {\n",
    "        return ...;\n",
    "    }\n",
    "\n",
    "    return {inner_func1, inner_func2}; // main difference is here\n",
    "\n",
    "}\n",
    "```\n",
    "> Notice that we directly define the named functions, then `return {inner_func1, inner_funct2}`. This is different than the previous example where we directly define the inner functions in the return statement `return {inner_func1: ... , inner_func2: ... }`"
   ]
  },
  {
   "cell_type": "markdown",
   "metadata": {},
   "source": [
    "# Example 8"
   ]
  },
  {
   "cell_type": "code",
   "execution_count": 58,
   "metadata": {},
   "outputs": [
    {
     "name": "stdout",
     "output_type": "stream",
     "text": [
      "\u001b[33m6\u001b[39m\n",
      "\u001b[33m5\u001b[39m\n",
      "\u001b[33m4\u001b[39m\n"
     ]
    }
   ],
   "source": [
    "%%script node\n",
    "var createCounter = function(init) {\n",
    "\n",
    "    let cur = init;\n",
    "\n",
    "    return {\n",
    "        increment: function() {\n",
    "            return ++cur; // increment cur then return\n",
    "        },\n",
    "\n",
    "        decrement: function() {\n",
    "            return --cur ; // decrement cur then return\n",
    "        },\n",
    "\n",
    "        reset: function() {\n",
    "            return (cur = init); // reassign cur then return\n",
    "        }\n",
    "    }\n",
    "};\n",
    "\n",
    "const counter = createCounter(5); // init = 5\n",
    "console.log(counter.increment()); // 6\n",
    "console.log(counter.reset()); // 5\n",
    "console.log(counter.decrement()); // 4\n",
    " "
   ]
  },
  {
   "cell_type": "markdown",
   "metadata": {},
   "source": [
    "- `init` value never change after initialization. On line 21, we initialized `counter = createCounter(5)`, this means `init = 5`.\n",
    "- On line 4, we created another variable `cur`, which we store the initial `init` value.\n",
    "- In each inner functions, we perform `++cur` (increment cur then return cur); `--cur` (decrement cur then return cur);\n",
    "- On line 16, `return (cur = init)`. Here we are essentially doing 2 steps, reassigning `cur = init`, then `return cur`. We can explicitly write it in 2 steps like below:\n",
    "```\n",
    "reset: function() {\n",
    "    cur = init;\n",
    "    return cur;\n",
    "}\n",
    "```\n",
    "- Likewise, we can also expand `return ++cur` where we increment cur, then returns it into 2 separate lines, like below:\n",
    "```\n",
    "increment: function() {\n",
    "    ++cur; // or cur++, it does not matter here. See below example for details\n",
    "    return cur;\n",
    "}\n",
    "```"
   ]
  },
  {
   "cell_type": "markdown",
   "metadata": {},
   "source": [
    "## Postfix vs Prefix"
   ]
  },
  {
   "cell_type": "code",
   "execution_count": 59,
   "metadata": {},
   "outputs": [
    {
     "name": "stdout",
     "output_type": "stream",
     "text": [
      "\u001b[33m6\u001b[39m\n",
      "\u001b[33m6\u001b[39m\n"
     ]
    }
   ],
   "source": [
    "%%script node\n",
    "let cur = 5;\n",
    "let result = ++cur;  // `cur` is incremented first, then `result` gets the new value of `cur`\n",
    "console.log(result);  // 6 (value of `cur` after increment)\n",
    "console.log(cur);     // 6 (value of `cur` after increment)\n"
   ]
  },
  {
   "cell_type": "code",
   "execution_count": 60,
   "metadata": {},
   "outputs": [
    {
     "name": "stdout",
     "output_type": "stream",
     "text": [
      "\u001b[33m5\u001b[39m\n",
      "\u001b[33m6\u001b[39m\n"
     ]
    }
   ],
   "source": [
    "%%script node\n",
    "let cur = 5;\n",
    "let result = cur++;  // result gets the current value of `cur`, then `cur` is incremented\n",
    "console.log(result);  // 5 (value of `cur` before increment)\n",
    "console.log(cur);     // 6 (value of `cur` after increment)\n"
   ]
  },
  {
   "cell_type": "markdown",
   "metadata": {},
   "source": [
    "# References\n",
    "- https://developer.mozilla.org/en-US/docs/Web/JavaScript/Guide/Functions#nested_functions_and_closures\n"
   ]
  }
 ],
 "metadata": {
  "kernelspec": {
   "display_name": "bio",
   "language": "python",
   "name": "python3"
  },
  "language_info": {
   "codemirror_mode": {
    "name": "ipython",
    "version": 3
   },
   "file_extension": ".py",
   "mimetype": "text/x-python",
   "name": "python",
   "nbconvert_exporter": "python",
   "pygments_lexer": "ipython3",
   "version": "3.10.14"
  }
 },
 "nbformat": 4,
 "nbformat_minor": 2
}

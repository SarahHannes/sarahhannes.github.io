{
 "cells": [
  {
   "cell_type": "markdown",
   "id": "a71e6f40-3ecf-4034-a478-2bd0a823a735",
   "metadata": {},
   "source": [
    "\n",
    "\n",
    "---\n",
    "title: \"Conda ImportError when trying to run python file\"\n",
    "execute: \n",
    "  enabled: false\n",
    "  freeze: true\n",
    "date: \"5/14/2024\"\n",
    "categories: [conda, error, terminal]\n",
    "---\n"
   ]
  },
  {
   "cell_type": "markdown",
   "id": "bff569b3-7f41-4f3a-b3d4-36aa5e055ec9",
   "metadata": {},
   "source": [
    "> Update `typing_extensions` when getting ImportError"
   ]
  },
  {
   "cell_type": "markdown",
   "id": "197ca77d-db6d-4925-b80e-d86f53cbe419",
   "metadata": {
    "execution": {
     "iopub.execute_input": "2024-06-13T08:03:04.042949Z",
     "iopub.status.busy": "2024-06-13T08:03:04.040222Z",
     "iopub.status.idle": "2024-06-13T08:03:04.093992Z",
     "shell.execute_reply": "2024-06-13T08:03:04.092303Z",
     "shell.execute_reply.started": "2024-06-13T08:03:04.042867Z"
    }
   },
   "source": [
    "\n",
    "```\n",
    "Traceback (most recent call last):\n",
    "...\n",
    "from typing_extensions import TypeAlias # Python 3.10+ ImportError: cannot import name 'TypeAlias' from 'typing_extensions' (/opt/homebrew/Caskroom/miniforge/base/envs/my_env/lib/python3.10/site-packages/typing_extensions.py)\n",
    "```"
   ]
  },
  {
   "cell_type": "markdown",
   "id": "1d48b1d7-7a78-4084-9925-7fea8d4fc153",
   "metadata": {},
   "source": [
    "\n",
    "\n",
    "### Steps to reproduce error\n",
    "1. Open terminal\n",
    "2. Create requirements.txt in current working directory\n",
    "```\n",
    "# requirements.txt\n",
    "typing-extensions ==3.7.4\n",
    "```\n",
    "3. Create new environment with python=3.10, install pip, install required libraries from requirements.txt using pip. Here, our environment is called `my_env`.\n",
    "```\n",
    "conda create -n myenv python=3.10\n",
    "conda install pip\n",
    "pip install -r requirements.txt\n",
    "```\n",
    "4. Create a dummy python file called run.py in current working directory\n",
    "```\n",
    "# run.py\n",
    "print('hello world!')\n",
    "```\n",
    "5. Run run.py from terminal\n",
    "```\n",
    "python run.py\n",
    "```\n"
   ]
  },
  {
   "cell_type": "markdown",
   "id": "811533d0-bf6e-489e-9398-e3615de91727",
   "metadata": {
    "execution": {
     "iopub.execute_input": "2024-06-13T08:04:25.920698Z",
     "iopub.status.busy": "2024-06-13T08:04:25.920264Z",
     "iopub.status.idle": "2024-06-13T08:04:25.926250Z",
     "shell.execute_reply": "2024-06-13T08:04:25.924891Z",
     "shell.execute_reply.started": "2024-06-13T08:04:25.920668Z"
    }
   },
   "source": [
    "\n",
    "### How to fix it\n",
    "\n",
    "Upgrade typing_extensions by:\n",
    "```\n",
    "pip install typing_extensions==4.7.1 --upgrade\n",
    "```"
   ]
  }
 ],
 "metadata": {
  "kernelspec": {
   "display_name": "Python 3.11 (fastai)",
   "language": "python",
   "name": "fastai"
  },
  "language_info": {
   "codemirror_mode": {
    "name": "ipython",
    "version": 3
   },
   "file_extension": ".py",
   "mimetype": "text/x-python",
   "name": "python",
   "nbconvert_exporter": "python",
   "pygments_lexer": "ipython3",
   "version": "3.11.9"
  }
 },
 "nbformat": 4,
 "nbformat_minor": 5
}

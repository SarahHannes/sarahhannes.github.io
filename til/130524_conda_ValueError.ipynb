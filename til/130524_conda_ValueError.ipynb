{
 "cells": [
  {
   "cell_type": "markdown",
   "id": "a71e6f40-3ecf-4034-a478-2bd0a823a735",
   "metadata": {},
   "source": [
    "\n",
    "\n",
    "---\n",
    "title: \"Conda ValueError when trying to open jupyter notebook\"\n",
    "execute: \n",
    "  enabled: false\n",
    "  freeze: true\n",
    "date: \"5/13/2024\"\n",
    "categories: [conda, error, terminal]\n",
    "---\n"
   ]
  },
  {
   "cell_type": "markdown",
   "id": "bff569b3-7f41-4f3a-b3d4-36aa5e055ec9",
   "metadata": {},
   "source": [
    "> Getting ValueError when forgetting to add `conda` when trying to activate conda environment"
   ]
  },
  {
   "cell_type": "markdown",
   "id": "1d48b1d7-7a78-4084-9925-7fea8d4fc153",
   "metadata": {},
   "source": [
    "```\n",
    "Traceback (most recent call last):\n",
    "  File \"/opt/homebrew/Caskroom/miniforge/base/bin/jupyter-notebook\", line 10, in <module>\n",
    "    sys.exit(main())\n",
    "  File \"/opt/homebrew/Caskroom/miniforge/base/lib/python3.10/site-packages/jupyter_core/application.py\", line 283, in launch_instance\n",
    "    super().launch_instance(argv=argv, **kwargs)\n",
    "  File \"/opt/homebrew/Caskroom/miniforge/base/lib/python3.10/site-packages/traitlets/config/application.py\", line 1074, in launch_instance\n",
    "    app.initialize(argv)\n",
    "  File \"/opt/homebrew/Caskroom/miniforge/base/lib/python3.10/site-packages/traitlets/config/application.py\", line 118, in inner\n",
    "    return method(app, *args, **kwargs)\n",
    "  File \"/opt/homebrew/Caskroom/miniforge/base/lib/python3.10/site-packages/notebook/notebookapp.py\", line 2171, in initialize\n",
    "    self.init_webapp()\n",
    "  File \"/opt/homebrew/Caskroom/miniforge/base/lib/python3.10/site-packages/notebook/notebookapp.py\", line 1779, in init_webapp\n",
    "    self.web_app = NotebookWebApplication(\n",
    "  File \"/opt/homebrew/Caskroom/miniforge/base/lib/python3.10/site-packages/notebook/notebookapp.py\", line 178, in __init__\n",
    "    settings = self.init_settings(\n",
    "  File \"/opt/homebrew/Caskroom/miniforge/base/lib/python3.10/site-packages/notebook/notebookapp.py\", line 316, in init_settings\n",
    "    nbextensions_path=jupyter_app.nbextensions_path,\n",
    "  File \"/opt/homebrew/Caskroom/miniforge/base/lib/python3.10/site-packages/notebook/notebookapp.py\", line 1349, in nbextensions_path\n",
    "    from IPython.paths import get_ipython_dir\n",
    "  File \"/opt/homebrew/Caskroom/miniforge/base/lib/python3.10/site-packages/IPython/__init__.py\", line 55, in <module>\n",
    "    from .terminal.embed import embed\n",
    "  File \"/opt/homebrew/Caskroom/miniforge/base/lib/python3.10/site-packages/IPython/terminal/embed.py\", line 16, in <module>\n",
    "    from IPython.terminal.interactiveshell import TerminalInteractiveShell\n",
    "  File \"/opt/homebrew/Caskroom/miniforge/base/lib/python3.10/site-packages/IPython/terminal/interactiveshell.py\", line 31, in <module>\n",
    "    from prompt_toolkit.auto_suggest import AutoSuggestFromHistory\n",
    "ValueError: source code string cannot contain null bytes\n",
    "```\n"
   ]
  },
  {
   "cell_type": "markdown",
   "id": "0e369e65-8c7d-460d-803d-17a419aced20",
   "metadata": {},
   "source": [
    "\n",
    "### Steps to reproduce error\n",
    "1. Open terminal\n",
    "2. Activate your environment, here `myenv`:\n",
    "```\n",
    "(base) activate myenv\n",
    "```\n",
    "4. Open jupyter notebook\n",
    "```\n",
    "jupyter notebook\n",
    "```"
   ]
  },
  {
   "cell_type": "markdown",
   "id": "f9d426e3-92b1-4c5d-b32d-3d2973eafe52",
   "metadata": {},
   "source": [
    "### How to fix it\n",
    "The error is because I did not specify `conda` when trying to activate environment. It should be:\n",
    "```\n",
    "(base) conda activate myenv\n",
    "```"
   ]
  },
  {
   "cell_type": "markdown",
   "id": "c7c24fe2-dc31-408e-9029-bfca2f34c28e",
   "metadata": {},
   "source": [
    "### Why we get this error\n",
    "\n",
    "When we do `activate myenv`, we are still in our `base` environment and not `myenv`. Perhaps some of the libraries required to open jupyter notebook is outdated in our `base` environment."
   ]
  }
 ],
 "metadata": {
  "kernelspec": {
   "display_name": "Python 3.11 (fastai)",
   "language": "python",
   "name": "fastai"
  },
  "language_info": {
   "codemirror_mode": {
    "name": "ipython",
    "version": 3
   },
   "file_extension": ".py",
   "mimetype": "text/x-python",
   "name": "python",
   "nbconvert_exporter": "python",
   "pygments_lexer": "ipython3",
   "version": "3.11.9"
  }
 },
 "nbformat": 4,
 "nbformat_minor": 5
}

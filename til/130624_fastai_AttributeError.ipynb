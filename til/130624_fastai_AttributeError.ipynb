{
 "cells": [
  {
   "cell_type": "markdown",
   "id": "443abff8-7b99-4eb8-91c9-976cabda650f",
   "metadata": {},
   "source": [
    "\n",
    "\n",
    "---\n",
    "title: \"TabularPandas AttributeError: classes\"\n",
    "execute: \n",
    "  enabled: false\n",
    "  freeze: true\n",
    "date: \"6/13/2024\"\n",
    "categories: [fastai, TabularPandas, error, python]\n",
    "\n",
    "engine: jupyter\n",
    "---\n"
   ]
  },
  {
   "cell_type": "markdown",
   "id": "16b03073",
   "metadata": {},
   "source": [
    "> Specify *procs* `TabularPandas(..., procs = [Categorify])` when you have categorical columns"
   ]
  },
  {
   "cell_type": "markdown",
   "id": "bee4880c",
   "metadata": {},
   "source": [
    ":::{.callout-note}\n",
    "This post was written using:\n",
    "<br>- `pandas`: 2.2.2\n",
    "<br>- `fastai`: 2.7.15\n",
    ":::"
   ]
  },
  {
   "cell_type": "code",
   "execution_count": 1,
   "id": "83735e84-1717-4ea5-aa95-49463995caa3",
   "metadata": {
    "execution": {
     "iopub.execute_input": "2024-06-13T05:12:06.825672Z",
     "iopub.status.busy": "2024-06-13T05:12:06.824942Z",
     "iopub.status.idle": "2024-06-13T05:12:09.556134Z",
     "shell.execute_reply": "2024-06-13T05:12:09.555035Z",
     "shell.execute_reply.started": "2024-06-13T05:12:06.825629Z"
    }
   },
   "outputs": [],
   "source": [
    "import pandas as pd\n",
    "from fastai.tabular.all import *"
   ]
  },
  {
   "cell_type": "code",
   "execution_count": 6,
   "id": "bc13f0b1-51d3-4481-8de8-9f753d1a267f",
   "metadata": {
    "execution": {
     "iopub.execute_input": "2024-06-13T06:15:26.361750Z",
     "iopub.status.busy": "2024-06-13T06:15:26.361209Z",
     "iopub.status.idle": "2024-06-13T06:15:26.417501Z",
     "shell.execute_reply": "2024-06-13T06:15:26.415786Z",
     "shell.execute_reply.started": "2024-06-13T06:15:26.361715Z"
    }
   },
   "outputs": [
    {
     "name": "stdout",
     "output_type": "stream",
     "text": [
      "Column a:\n",
      "Counter({2.0: 8435, 1.0: 2580, 3.0: 2011})\n",
      "\n",
      "Column b:\n",
      "Counter({12.0: 9853, 32.0: 2911, 80.0: 87, 16.0: 72, 11.0: 47, 8.0: 28, 10.0: 25, 40.0: 3})\n",
      "\n",
      "Column c:\n",
      "Counter({0: 1579, 5: 1517, 6: 1271, 7: 1213, 4: 1211, 8: 1081, 3: 898, 9: 831, 10: 682, 2: 608, 1: 342, 11: 278, 14: 216, 12: 206, 16: 184, 13: 165, 15: 145, 17: 131, 18: 94, 19: 88, 20: 66, 21: 57, 23: 54, 29: 24, 26: 18, 24: 16, 27: 16, 22: 12, 30: 12, 25: 7, 28: 4})\n",
      "\n",
      "Column d:\n",
      "Counter({15.0: 7521, -1.0: 1433, 8.0: 374, 0.0: 372, 7.0: 365, 9.0: 334, 10.0: 319, 6.0: 316, 5.0: 272, 11.0: 264, 4.0: 241, 12.0: 220, 3.0: 217, 13.0: 205, 14.0: 176, 2.0: 170, 1.0: 164, -3.0: 14, -2.0: 4, -4.0: 3, -27.0: 3, -5.0: 3, -22.0: 2, -26.0: 2, -30.0: 2, -16.0: 2, -7.0: 2, -17.0: 2, -21.0: 1, -23.0: 1, -25.0: 1, -28.0: 1, -31.0: 1, -32.0: 1, -53.0: 1, -56.0: 1, -57.0: 1, -58.0: 1, -59.0: 1, -88.0: 1, -93.0: 1, -98.0: 1, -38.0: 1, -8.0: 1, -11.0: 1, -14.0: 1, -18.0: 1, -9.0: 1, -10.0: 1, -43.0: 1, -49.0: 1, -6.0: 1})\n",
      "\n",
      "Column e:\n",
      "Counter({4.1: 1285, 3.4: 912, 3.3: 905, 4.0: 884, 4.2: 812, 3.5: 797, 3.6: 713, 3.7: 708, 3.2: 666, 3.9: 640, 3.8: 628, 4.3: 512, 4.4: 359, 2.1: 351, 4.5: 294, 3.1: 276, 2.2: 269, 4.6: 216, 2.3: 185, 4.7: 175, 2.4: 145, 4.8: 142, 4.9: 135, 5.0: 130, 5.1: 90, 2.5: 88, 5.2: 72, 2.6: 66, 2.8: 64, 2.7: 64, 5.3: 58, 3.0: 54, 2.9: 50, 2.0: 38, 5.4: 34, 5.5: 28, 6.3: 22, 6.6: 21, 5.7: 16, 6.2: 16, 5.6: 16, 5.8: 15, 6.7: 14, 6.8: 12, 6.1: 12, 6.5: 9, 5.9: 8, 6.4: 6, 6.0: 4, 7.2: 4, 6.9: 3, 7.0: 1, 7.5: 1, 7.1: 1})\n",
      "\n",
      "Column f:\n",
      "Counter({0.7: 1475, 0.6: 1472, 0.8: 1444, 1.0: 1385, 0.9: 1335, 0.5: 1249, 0.4: 1014, 1.1: 974, 0.3: 708, 0.0: 482, 0.2: 423, 0.1: 294, 1.2: 241, 1.3: 119, 1.4: 81, 1.5: 56, 1.6: 37, 1.8: 33, 1.9: 25, -0.1: 23, 1.7: 22, -1.1: 19, 2.3: 15, 2.4: 12, 2.1: 9, -1.3: 9, -0.6: 8, -0.9: 8, -0.7: 7, 2.0: 7, -0.8: 5, -1.9: 5, -1.2: 4, 2.2: 4, -0.2: 4, 2.8: 3, 2.6: 2, 2.5: 2, -0.3: 2, -0.5: 2, 5.1: 1, -1.0: 1, 2.7: 1, 3.0: 1, -1.8: 1, -1.6: 1, -4.5: 1})\n",
      "\n",
      "Column label:\n",
      "Counter({0.0: 11000, 1.0: 2026})\n",
      "\n"
     ]
    }
   ],
   "source": [
    "# looking at unique values in each columns to split categorical / continuous features\n",
    "for k in df.keys():\n",
    "    print(f\"Column {k}:\\n{Counter(df[k])}\")\n",
    "    print()"
   ]
  },
  {
   "cell_type": "code",
   "execution_count": 7,
   "id": "5dfad572-4d1a-4157-9edf-fbe322a2aeb4",
   "metadata": {
    "execution": {
     "iopub.execute_input": "2024-06-13T06:15:26.680408Z",
     "iopub.status.busy": "2024-06-13T06:15:26.679492Z",
     "iopub.status.idle": "2024-06-13T06:15:26.689729Z",
     "shell.execute_reply": "2024-06-13T06:15:26.687973Z",
     "shell.execute_reply.started": "2024-06-13T06:15:26.680345Z"
    }
   },
   "outputs": [
    {
     "name": "stdout",
     "output_type": "stream",
     "text": [
      "cat_names: ['a', 'b']\n",
      "cont_names: ['c', 'd', 'e', 'f']\n",
      "y_names: label\n"
     ]
    }
   ],
   "source": [
    "# define categorical and continuous features\n",
    "cat_names = ['a', 'b']\n",
    "y_names = 'label'\n",
    "cont_names = [c for c in df.keys() if c not in cat_names+[y_names]]\n",
    "\n",
    "\n",
    "print('cat_names:',cat_names)\n",
    "print('cont_names:',cont_names)\n",
    "print('y_names:',y_names)\n"
   ]
  },
  {
   "cell_type": "code",
   "execution_count": 8,
   "id": "5d7fe4ce-7643-48d6-91f5-ec21008515ed",
   "metadata": {
    "execution": {
     "iopub.execute_input": "2024-06-13T06:15:27.571545Z",
     "iopub.status.busy": "2024-06-13T06:15:27.571030Z",
     "iopub.status.idle": "2024-06-13T06:15:30.359768Z",
     "shell.execute_reply": "2024-06-13T06:15:30.358871Z",
     "shell.execute_reply.started": "2024-06-13T06:15:27.571499Z"
    }
   },
   "outputs": [
    {
     "name": "stdout",
     "output_type": "stream",
     "text": [
      "train set len 10421\n",
      "val set len 2605\n"
     ]
    }
   ],
   "source": [
    "# split into train and test\n",
    "val_index = list(df.sample(frac=0.2, random_state=0).index) # 20% from total df\n",
    "train_index = list(df[~df.index.isin(val_index)].index)\n",
    "\n",
    "assert (len([i for i in train_index if i in set(val_index)])==0 \n",
    "        and len([i for i in val_index if i in set(train_index)])==0), 'train and val set are overlapping!'\n",
    "\n",
    "print('train set len', len(train_index))\n",
    "print('val set len', len(val_index))"
   ]
  },
  {
   "cell_type": "markdown",
   "id": "f5808ee7-93ad-4318-bcb4-68fb90f4fe93",
   "metadata": {
    "execution": {
     "iopub.execute_input": "2024-06-13T06:37:58.805180Z",
     "iopub.status.busy": "2024-06-13T06:37:58.804622Z",
     "iopub.status.idle": "2024-06-13T06:37:58.809490Z",
     "shell.execute_reply": "2024-06-13T06:37:58.808644Z",
     "shell.execute_reply.started": "2024-06-13T06:37:58.805140Z"
    }
   },
   "source": [
    "### Error Example"
   ]
  },
  {
   "cell_type": "code",
   "execution_count": 43,
   "id": "1c7ce076-fc0a-4a47-8b9d-de2fabc3f5ed",
   "metadata": {
    "execution": {
     "iopub.execute_input": "2024-06-13T05:43:46.684188Z",
     "iopub.status.busy": "2024-06-13T05:43:46.683791Z",
     "iopub.status.idle": "2024-06-13T05:43:46.957597Z",
     "shell.execute_reply": "2024-06-13T05:43:46.925742Z",
     "shell.execute_reply.started": "2024-06-13T05:43:46.684160Z"
    }
   },
   "outputs": [
    {
     "data": {
      "text/html": [
       "<table border=\"1\" class=\"dataframe\">\n",
       "  <thead>\n",
       "    <tr style=\"text-align: right;\">\n",
       "      <th></th>\n",
       "      <th>a</th>\n",
       "      <th>b</th>\n",
       "      <th>c</th>\n",
       "      <th>d</th>\n",
       "      <th>e</th>\n",
       "      <th>f</th>\n",
       "      <th>label</th>\n",
       "    </tr>\n",
       "  </thead>\n",
       "  <tbody>\n",
       "    <tr>\n",
       "      <th>0</th>\n",
       "      <td>1.0</td>\n",
       "      <td>12.0</td>\n",
       "      <td>7.0</td>\n",
       "      <td>9.0</td>\n",
       "      <td>3.9</td>\n",
       "      <td>0.6</td>\n",
       "      <td>0.0</td>\n",
       "    </tr>\n",
       "    <tr>\n",
       "      <th>1</th>\n",
       "      <td>2.0</td>\n",
       "      <td>12.0</td>\n",
       "      <td>3.0</td>\n",
       "      <td>15.0</td>\n",
       "      <td>4.1</td>\n",
       "      <td>0.3</td>\n",
       "      <td>0.0</td>\n",
       "    </tr>\n",
       "    <tr>\n",
       "      <th>2</th>\n",
       "      <td>2.0</td>\n",
       "      <td>12.0</td>\n",
       "      <td>4.0</td>\n",
       "      <td>-1.0</td>\n",
       "      <td>4.0</td>\n",
       "      <td>0.7</td>\n",
       "      <td>0.0</td>\n",
       "    </tr>\n",
       "    <tr>\n",
       "      <th>3</th>\n",
       "      <td>2.0</td>\n",
       "      <td>12.0</td>\n",
       "      <td>11.0</td>\n",
       "      <td>15.0</td>\n",
       "      <td>4.1</td>\n",
       "      <td>1.4</td>\n",
       "      <td>0.0</td>\n",
       "    </tr>\n",
       "    <tr>\n",
       "      <th>4</th>\n",
       "      <td>2.0</td>\n",
       "      <td>12.0</td>\n",
       "      <td>4.0</td>\n",
       "      <td>12.0</td>\n",
       "      <td>4.2</td>\n",
       "      <td>0.6</td>\n",
       "      <td>0.0</td>\n",
       "    </tr>\n",
       "    <tr>\n",
       "      <th>5</th>\n",
       "      <td>2.0</td>\n",
       "      <td>32.0</td>\n",
       "      <td>14.0</td>\n",
       "      <td>6.0</td>\n",
       "      <td>5.2</td>\n",
       "      <td>0.2</td>\n",
       "      <td>0.0</td>\n",
       "    </tr>\n",
       "    <tr>\n",
       "      <th>6</th>\n",
       "      <td>1.0</td>\n",
       "      <td>12.0</td>\n",
       "      <td>4.0</td>\n",
       "      <td>9.0</td>\n",
       "      <td>3.2</td>\n",
       "      <td>0.3</td>\n",
       "      <td>1.0</td>\n",
       "    </tr>\n",
       "    <tr>\n",
       "      <th>7</th>\n",
       "      <td>3.0</td>\n",
       "      <td>32.0</td>\n",
       "      <td>5.0</td>\n",
       "      <td>15.0</td>\n",
       "      <td>3.5</td>\n",
       "      <td>0.7</td>\n",
       "      <td>0.0</td>\n",
       "    </tr>\n",
       "    <tr>\n",
       "      <th>8</th>\n",
       "      <td>2.0</td>\n",
       "      <td>12.0</td>\n",
       "      <td>3.0</td>\n",
       "      <td>14.0</td>\n",
       "      <td>2.6</td>\n",
       "      <td>0.5</td>\n",
       "      <td>0.0</td>\n",
       "    </tr>\n",
       "    <tr>\n",
       "      <th>9</th>\n",
       "      <td>3.0</td>\n",
       "      <td>12.0</td>\n",
       "      <td>0.0</td>\n",
       "      <td>-2.0</td>\n",
       "      <td>4.1</td>\n",
       "      <td>-0.0</td>\n",
       "      <td>0.0</td>\n",
       "    </tr>\n",
       "  </tbody>\n",
       "</table>"
      ],
      "text/plain": [
       "<IPython.core.display.HTML object>"
      ]
     },
     "metadata": {},
     "output_type": "display_data"
    },
    {
     "name": "stdout",
     "output_type": "stream",
     "text": [
      "None\n"
     ]
    },
    {
     "ename": "AttributeError",
     "evalue": "classes",
     "output_type": "error",
     "traceback": [
      "\u001b[0;31m---------------------------------------------------------------------------\u001b[0m",
      "\u001b[0;31mAttributeError\u001b[0m                            Traceback (most recent call last)",
      "Cell \u001b[0;32mIn[43], line 10\u001b[0m\n\u001b[1;32m      8\u001b[0m dls \u001b[38;5;241m=\u001b[39m dl\u001b[38;5;241m.\u001b[39mdataloaders(bs\u001b[38;5;241m=\u001b[39m\u001b[38;5;241m64\u001b[39m)\n\u001b[1;32m      9\u001b[0m \u001b[38;5;28mprint\u001b[39m(dls\u001b[38;5;241m.\u001b[39mshow_batch())\n\u001b[0;32m---> 10\u001b[0m learn \u001b[38;5;241m=\u001b[39m \u001b[43mtabular_learner\u001b[49m\u001b[43m(\u001b[49m\u001b[43mdls\u001b[49m\u001b[43m,\u001b[49m\u001b[43m \u001b[49m\u001b[43mmetrics\u001b[49m\u001b[38;5;241;43m=\u001b[39;49m\u001b[43m[\u001b[49m\u001b[43maccuracy\u001b[49m\u001b[43m]\u001b[49m\u001b[43m)\u001b[49m\n\u001b[1;32m     11\u001b[0m learn\u001b[38;5;241m.\u001b[39mfit_one_cycle(\u001b[38;5;241m3\u001b[39m)\n",
      "File \u001b[0;32m/opt/homebrew/Caskroom/miniforge/base/envs/fastai/lib/python3.11/site-packages/fastai/tabular/learner.py:42\u001b[0m, in \u001b[0;36mtabular_learner\u001b[0;34m(dls, layers, emb_szs, config, n_out, y_range, **kwargs)\u001b[0m\n\u001b[1;32m     40\u001b[0m \u001b[38;5;28;01mif\u001b[39;00m layers \u001b[38;5;129;01mis\u001b[39;00m \u001b[38;5;28;01mNone\u001b[39;00m: layers \u001b[38;5;241m=\u001b[39m [\u001b[38;5;241m200\u001b[39m,\u001b[38;5;241m100\u001b[39m]\n\u001b[1;32m     41\u001b[0m to \u001b[38;5;241m=\u001b[39m dls\u001b[38;5;241m.\u001b[39mtrain_ds\n\u001b[0;32m---> 42\u001b[0m emb_szs \u001b[38;5;241m=\u001b[39m \u001b[43mget_emb_sz\u001b[49m\u001b[43m(\u001b[49m\u001b[43mdls\u001b[49m\u001b[38;5;241;43m.\u001b[39;49m\u001b[43mtrain_ds\u001b[49m\u001b[43m,\u001b[49m\u001b[43m \u001b[49m\u001b[43m{\u001b[49m\u001b[43m}\u001b[49m\u001b[43m \u001b[49m\u001b[38;5;28;43;01mif\u001b[39;49;00m\u001b[43m \u001b[49m\u001b[43memb_szs\u001b[49m\u001b[43m \u001b[49m\u001b[38;5;129;43;01mis\u001b[39;49;00m\u001b[43m \u001b[49m\u001b[38;5;28;43;01mNone\u001b[39;49;00m\u001b[43m \u001b[49m\u001b[38;5;28;43;01melse\u001b[39;49;00m\u001b[43m \u001b[49m\u001b[43memb_szs\u001b[49m\u001b[43m)\u001b[49m\n\u001b[1;32m     43\u001b[0m \u001b[38;5;28;01mif\u001b[39;00m n_out \u001b[38;5;129;01mis\u001b[39;00m \u001b[38;5;28;01mNone\u001b[39;00m: n_out \u001b[38;5;241m=\u001b[39m get_c(dls)\n\u001b[1;32m     44\u001b[0m \u001b[38;5;28;01massert\u001b[39;00m n_out, \u001b[38;5;124m\"\u001b[39m\u001b[38;5;124m`n_out` is not defined, and could not be inferred from data, set `dls.c` or pass `n_out`\u001b[39m\u001b[38;5;124m\"\u001b[39m\n",
      "File \u001b[0;32m/opt/homebrew/Caskroom/miniforge/base/envs/fastai/lib/python3.11/site-packages/fastai/tabular/model.py:32\u001b[0m, in \u001b[0;36mget_emb_sz\u001b[0;34m(to, sz_dict)\u001b[0m\n\u001b[1;32m     27\u001b[0m \u001b[38;5;28;01mdef\u001b[39;00m \u001b[38;5;21mget_emb_sz\u001b[39m(\n\u001b[1;32m     28\u001b[0m     to:Tabular\u001b[38;5;241m|\u001b[39mTabularPandas, \n\u001b[1;32m     29\u001b[0m     sz_dict:\u001b[38;5;28mdict\u001b[39m\u001b[38;5;241m=\u001b[39m\u001b[38;5;28;01mNone\u001b[39;00m \u001b[38;5;66;03m# Dictionary of {'class_name' : size, ...} to override default `emb_sz_rule` \u001b[39;00m\n\u001b[1;32m     30\u001b[0m ) \u001b[38;5;241m-\u001b[39m\u001b[38;5;241m>\u001b[39m \u001b[38;5;28mlist\u001b[39m: \u001b[38;5;66;03m# List of embedding sizes for each category\u001b[39;00m\n\u001b[1;32m     31\u001b[0m     \u001b[38;5;124m\"\u001b[39m\u001b[38;5;124mGet embedding size for each cat_name in `Tabular` or `TabularPandas`, or populate embedding size manually using sz_dict\u001b[39m\u001b[38;5;124m\"\u001b[39m\n\u001b[0;32m---> 32\u001b[0m     \u001b[38;5;28;01mreturn\u001b[39;00m \u001b[43m[\u001b[49m\u001b[43m_one_emb_sz\u001b[49m\u001b[43m(\u001b[49m\u001b[43mto\u001b[49m\u001b[38;5;241;43m.\u001b[39;49m\u001b[43mclasses\u001b[49m\u001b[43m,\u001b[49m\u001b[43m \u001b[49m\u001b[43mn\u001b[49m\u001b[43m,\u001b[49m\u001b[43m \u001b[49m\u001b[43msz_dict\u001b[49m\u001b[43m)\u001b[49m\u001b[43m \u001b[49m\u001b[38;5;28;43;01mfor\u001b[39;49;00m\u001b[43m \u001b[49m\u001b[43mn\u001b[49m\u001b[43m \u001b[49m\u001b[38;5;129;43;01min\u001b[39;49;00m\u001b[43m \u001b[49m\u001b[43mto\u001b[49m\u001b[38;5;241;43m.\u001b[39;49m\u001b[43mcat_names\u001b[49m\u001b[43m]\u001b[49m\n",
      "File \u001b[0;32m/opt/homebrew/Caskroom/miniforge/base/envs/fastai/lib/python3.11/site-packages/fastai/tabular/model.py:32\u001b[0m, in \u001b[0;36m<listcomp>\u001b[0;34m(.0)\u001b[0m\n\u001b[1;32m     27\u001b[0m \u001b[38;5;28;01mdef\u001b[39;00m \u001b[38;5;21mget_emb_sz\u001b[39m(\n\u001b[1;32m     28\u001b[0m     to:Tabular\u001b[38;5;241m|\u001b[39mTabularPandas, \n\u001b[1;32m     29\u001b[0m     sz_dict:\u001b[38;5;28mdict\u001b[39m\u001b[38;5;241m=\u001b[39m\u001b[38;5;28;01mNone\u001b[39;00m \u001b[38;5;66;03m# Dictionary of {'class_name' : size, ...} to override default `emb_sz_rule` \u001b[39;00m\n\u001b[1;32m     30\u001b[0m ) \u001b[38;5;241m-\u001b[39m\u001b[38;5;241m>\u001b[39m \u001b[38;5;28mlist\u001b[39m: \u001b[38;5;66;03m# List of embedding sizes for each category\u001b[39;00m\n\u001b[1;32m     31\u001b[0m     \u001b[38;5;124m\"\u001b[39m\u001b[38;5;124mGet embedding size for each cat_name in `Tabular` or `TabularPandas`, or populate embedding size manually using sz_dict\u001b[39m\u001b[38;5;124m\"\u001b[39m\n\u001b[0;32m---> 32\u001b[0m     \u001b[38;5;28;01mreturn\u001b[39;00m [_one_emb_sz(\u001b[43mto\u001b[49m\u001b[38;5;241;43m.\u001b[39;49m\u001b[43mclasses\u001b[49m, n, sz_dict) \u001b[38;5;28;01mfor\u001b[39;00m n \u001b[38;5;129;01min\u001b[39;00m to\u001b[38;5;241m.\u001b[39mcat_names]\n",
      "File \u001b[0;32m/opt/homebrew/Caskroom/miniforge/base/envs/fastai/lib/python3.11/site-packages/fastcore/basics.py:507\u001b[0m, in \u001b[0;36mGetAttr.__getattr__\u001b[0;34m(self, k)\u001b[0m\n\u001b[1;32m    505\u001b[0m \u001b[38;5;28;01mif\u001b[39;00m \u001b[38;5;28mself\u001b[39m\u001b[38;5;241m.\u001b[39m_component_attr_filter(k):\n\u001b[1;32m    506\u001b[0m     attr \u001b[38;5;241m=\u001b[39m \u001b[38;5;28mgetattr\u001b[39m(\u001b[38;5;28mself\u001b[39m,\u001b[38;5;28mself\u001b[39m\u001b[38;5;241m.\u001b[39m_default,\u001b[38;5;28;01mNone\u001b[39;00m)\n\u001b[0;32m--> 507\u001b[0m     \u001b[38;5;28;01mif\u001b[39;00m attr \u001b[38;5;129;01mis\u001b[39;00m \u001b[38;5;129;01mnot\u001b[39;00m \u001b[38;5;28;01mNone\u001b[39;00m: \u001b[38;5;28;01mreturn\u001b[39;00m \u001b[38;5;28mgetattr\u001b[39m(attr,k)\n\u001b[1;32m    508\u001b[0m \u001b[38;5;28;01mraise\u001b[39;00m \u001b[38;5;167;01mAttributeError\u001b[39;00m(k)\n",
      "File \u001b[0;32m/opt/homebrew/Caskroom/miniforge/base/envs/fastai/lib/python3.11/site-packages/fastcore/transform.py:212\u001b[0m, in \u001b[0;36mPipeline.__getattr__\u001b[0;34m(self, k)\u001b[0m\n\u001b[0;32m--> 212\u001b[0m \u001b[38;5;28;01mdef\u001b[39;00m \u001b[38;5;21m__getattr__\u001b[39m(\u001b[38;5;28mself\u001b[39m,k): \u001b[38;5;28;01mreturn\u001b[39;00m \u001b[43mgather_attrs\u001b[49m\u001b[43m(\u001b[49m\u001b[38;5;28;43mself\u001b[39;49m\u001b[43m,\u001b[49m\u001b[43m \u001b[49m\u001b[43mk\u001b[49m\u001b[43m,\u001b[49m\u001b[43m \u001b[49m\u001b[38;5;124;43m'\u001b[39;49m\u001b[38;5;124;43mfs\u001b[39;49m\u001b[38;5;124;43m'\u001b[39;49m\u001b[43m)\u001b[49m\n",
      "File \u001b[0;32m/opt/homebrew/Caskroom/miniforge/base/envs/fastai/lib/python3.11/site-packages/fastcore/transform.py:173\u001b[0m, in \u001b[0;36mgather_attrs\u001b[0;34m(o, k, nm)\u001b[0m\n\u001b[1;32m    171\u001b[0m att \u001b[38;5;241m=\u001b[39m \u001b[38;5;28mgetattr\u001b[39m(o,nm)\n\u001b[1;32m    172\u001b[0m res \u001b[38;5;241m=\u001b[39m [t \u001b[38;5;28;01mfor\u001b[39;00m t \u001b[38;5;129;01min\u001b[39;00m att\u001b[38;5;241m.\u001b[39mattrgot(k) \u001b[38;5;28;01mif\u001b[39;00m t \u001b[38;5;129;01mis\u001b[39;00m \u001b[38;5;129;01mnot\u001b[39;00m \u001b[38;5;28;01mNone\u001b[39;00m]\n\u001b[0;32m--> 173\u001b[0m \u001b[38;5;28;01mif\u001b[39;00m \u001b[38;5;129;01mnot\u001b[39;00m res: \u001b[38;5;28;01mraise\u001b[39;00m \u001b[38;5;167;01mAttributeError\u001b[39;00m(k)\n\u001b[1;32m    174\u001b[0m \u001b[38;5;28;01mreturn\u001b[39;00m res[\u001b[38;5;241m0\u001b[39m] \u001b[38;5;28;01mif\u001b[39;00m \u001b[38;5;28mlen\u001b[39m(res)\u001b[38;5;241m==\u001b[39m\u001b[38;5;241m1\u001b[39m \u001b[38;5;28;01melse\u001b[39;00m L(res)\n",
      "\u001b[0;31mAttributeError\u001b[0m: classes"
     ]
    }
   ],
   "source": [
    "# oh no, can't train!\n",
    "\n",
    "dl = TabularPandas(df, \n",
    "                   cat_names=cat_names, \n",
    "                   cont_names=cont_names, \n",
    "                   y_names=y_names,\n",
    "                   y_block = CategoryBlock(vocab=df[y_names]), \n",
    "                   splits=(train_index, val_index))\n",
    "\n",
    "dls = dl.dataloaders(bs=64)\n",
    "print(dls.show_batch())\n",
    "learn = tabular_learner(dls, metrics=[accuracy])\n",
    "learn.fit_one_cycle(3)"
   ]
  },
  {
   "cell_type": "markdown",
   "id": "d2c63f33-d460-4787-aadf-649117fc7120",
   "metadata": {},
   "source": [
    "How to fix this? \n",
    "\n",
    "I actually went down the rabbit hole and provided the `emb_szs` manually as mentioned in the source code hinted by error message above, but there is actually an easier way -- just add `procs=[Categorify]` when initializing TabularPandas.\n",
    "\n",
    "* In the source code, `emb_szs` is expected to be `{'class_name' : size, ...}`. So for example if column `a` is a categorical column in our df, then `emb_szs = {'a': len(unique value in column 'a')}`."
   ]
  },
  {
   "cell_type": "markdown",
   "id": "5cae4842-f0b9-4c62-9546-b2680bee6e97",
   "metadata": {},
   "source": [
    "### Working Example"
   ]
  },
  {
   "cell_type": "code",
   "execution_count": 44,
   "id": "d4eab532-add5-4b25-91d3-7e7786474a8a",
   "metadata": {
    "execution": {
     "iopub.execute_input": "2024-06-13T05:45:18.439221Z",
     "iopub.status.busy": "2024-06-13T05:45:18.438537Z",
     "iopub.status.idle": "2024-06-13T05:45:43.448328Z",
     "shell.execute_reply": "2024-06-13T05:45:43.446194Z",
     "shell.execute_reply.started": "2024-06-13T05:45:18.439164Z"
    }
   },
   "outputs": [
    {
     "data": {
      "text/html": [
       "<table border=\"1\" class=\"dataframe\">\n",
       "  <thead>\n",
       "    <tr style=\"text-align: right;\">\n",
       "      <th></th>\n",
       "      <th>a</th>\n",
       "      <th>b</th>\n",
       "      <th>c</th>\n",
       "      <th>d</th>\n",
       "      <th>e</th>\n",
       "      <th>f</th>\n",
       "      <th>label</th>\n",
       "    </tr>\n",
       "  </thead>\n",
       "  <tbody>\n",
       "    <tr>\n",
       "      <th>0</th>\n",
       "      <td>2.0</td>\n",
       "      <td>32.0</td>\n",
       "      <td>15.0</td>\n",
       "      <td>15.0</td>\n",
       "      <td>3.6</td>\n",
       "      <td>0.8</td>\n",
       "      <td>0.0</td>\n",
       "    </tr>\n",
       "    <tr>\n",
       "      <th>1</th>\n",
       "      <td>3.0</td>\n",
       "      <td>32.0</td>\n",
       "      <td>9.0</td>\n",
       "      <td>15.0</td>\n",
       "      <td>4.5</td>\n",
       "      <td>0.7</td>\n",
       "      <td>0.0</td>\n",
       "    </tr>\n",
       "    <tr>\n",
       "      <th>2</th>\n",
       "      <td>2.0</td>\n",
       "      <td>32.0</td>\n",
       "      <td>9.0</td>\n",
       "      <td>14.0</td>\n",
       "      <td>3.9</td>\n",
       "      <td>0.5</td>\n",
       "      <td>1.0</td>\n",
       "    </tr>\n",
       "    <tr>\n",
       "      <th>3</th>\n",
       "      <td>2.0</td>\n",
       "      <td>12.0</td>\n",
       "      <td>6.0</td>\n",
       "      <td>-1.0</td>\n",
       "      <td>4.0</td>\n",
       "      <td>1.0</td>\n",
       "      <td>0.0</td>\n",
       "    </tr>\n",
       "    <tr>\n",
       "      <th>4</th>\n",
       "      <td>2.0</td>\n",
       "      <td>12.0</td>\n",
       "      <td>8.0</td>\n",
       "      <td>15.0</td>\n",
       "      <td>3.7</td>\n",
       "      <td>0.9</td>\n",
       "      <td>0.0</td>\n",
       "    </tr>\n",
       "    <tr>\n",
       "      <th>5</th>\n",
       "      <td>2.0</td>\n",
       "      <td>12.0</td>\n",
       "      <td>4.0</td>\n",
       "      <td>15.0</td>\n",
       "      <td>3.7</td>\n",
       "      <td>0.7</td>\n",
       "      <td>1.0</td>\n",
       "    </tr>\n",
       "    <tr>\n",
       "      <th>6</th>\n",
       "      <td>1.0</td>\n",
       "      <td>12.0</td>\n",
       "      <td>0.0</td>\n",
       "      <td>15.0</td>\n",
       "      <td>4.0</td>\n",
       "      <td>0.7</td>\n",
       "      <td>0.0</td>\n",
       "    </tr>\n",
       "    <tr>\n",
       "      <th>7</th>\n",
       "      <td>3.0</td>\n",
       "      <td>12.0</td>\n",
       "      <td>0.0</td>\n",
       "      <td>15.0</td>\n",
       "      <td>3.3</td>\n",
       "      <td>0.5</td>\n",
       "      <td>0.0</td>\n",
       "    </tr>\n",
       "    <tr>\n",
       "      <th>8</th>\n",
       "      <td>2.0</td>\n",
       "      <td>12.0</td>\n",
       "      <td>5.0</td>\n",
       "      <td>15.0</td>\n",
       "      <td>4.3</td>\n",
       "      <td>0.9</td>\n",
       "      <td>0.0</td>\n",
       "    </tr>\n",
       "    <tr>\n",
       "      <th>9</th>\n",
       "      <td>2.0</td>\n",
       "      <td>12.0</td>\n",
       "      <td>9.0</td>\n",
       "      <td>15.0</td>\n",
       "      <td>4.3</td>\n",
       "      <td>0.9</td>\n",
       "      <td>0.0</td>\n",
       "    </tr>\n",
       "  </tbody>\n",
       "</table>"
      ],
      "text/plain": [
       "<IPython.core.display.HTML object>"
      ]
     },
     "metadata": {},
     "output_type": "display_data"
    },
    {
     "name": "stdout",
     "output_type": "stream",
     "text": [
      "None\n"
     ]
    },
    {
     "data": {
      "text/html": [
       "\n",
       "<style>\n",
       "    /* Turns off some styling */\n",
       "    progress {\n",
       "        /* gets rid of default border in Firefox and Opera. */\n",
       "        border: none;\n",
       "        /* Needs to be in here for Safari polyfill so background images work as expected. */\n",
       "        background-size: auto;\n",
       "    }\n",
       "    progress:not([value]), progress:not([value])::-webkit-progress-bar {\n",
       "        background: repeating-linear-gradient(45deg, #7e7e7e, #7e7e7e 10px, #5c5c5c 10px, #5c5c5c 20px);\n",
       "    }\n",
       "    .progress-bar-interrupted, .progress-bar-interrupted::-webkit-progress-bar {\n",
       "        background: #F44336;\n",
       "    }\n",
       "</style>\n"
      ],
      "text/plain": [
       "<IPython.core.display.HTML object>"
      ]
     },
     "metadata": {},
     "output_type": "display_data"
    },
    {
     "data": {
      "text/html": [
       "<table border=\"1\" class=\"dataframe\">\n",
       "  <thead>\n",
       "    <tr style=\"text-align: left;\">\n",
       "      <th>epoch</th>\n",
       "      <th>train_loss</th>\n",
       "      <th>valid_loss</th>\n",
       "      <th>accuracy</th>\n",
       "      <th>time</th>\n",
       "    </tr>\n",
       "  </thead>\n",
       "  <tbody>\n",
       "    <tr>\n",
       "      <td>0</td>\n",
       "      <td>0.482110</td>\n",
       "      <td>0.418015</td>\n",
       "      <td>0.832246</td>\n",
       "      <td>00:09</td>\n",
       "    </tr>\n",
       "    <tr>\n",
       "      <td>1</td>\n",
       "      <td>0.349364</td>\n",
       "      <td>0.333562</td>\n",
       "      <td>0.852591</td>\n",
       "      <td>00:07</td>\n",
       "    </tr>\n",
       "    <tr>\n",
       "      <td>2</td>\n",
       "      <td>0.322106</td>\n",
       "      <td>0.323014</td>\n",
       "      <td>0.854511</td>\n",
       "      <td>00:07</td>\n",
       "    </tr>\n",
       "  </tbody>\n",
       "</table>"
      ],
      "text/plain": [
       "<IPython.core.display.HTML object>"
      ]
     },
     "metadata": {},
     "output_type": "display_data"
    }
   ],
   "source": [
    "# now we can train\n",
    "\n",
    "dl = TabularPandas(df, \n",
    "                   cat_names=cat_names, \n",
    "                   cont_names=cont_names, \n",
    "                   y_names=y_names,\n",
    "                   y_block = CategoryBlock(vocab=df[y_names]), \n",
    "                   splits=(train_index, val_index),\n",
    "                   procs=[Categorify])  # <------ add procs!\n",
    "\n",
    "dls = dl.dataloaders(bs=64)\n",
    "print(dls.show_batch())\n",
    "learn = tabular_learner(dls, metrics=[accuracy])\n",
    "learn.fit_one_cycle(3)"
   ]
  },
  {
   "cell_type": "markdown",
   "id": "5f709856-dae0-4176-9981-3368cce4cad4",
   "metadata": {},
   "source": [
    "----\n",
    "### Why did we get this error?"
   ]
  },
  {
   "cell_type": "code",
   "execution_count": 11,
   "id": "3a70bb99-f308-4a81-84ec-51be48987a72",
   "metadata": {
    "execution": {
     "iopub.execute_input": "2024-06-13T06:15:39.886569Z",
     "iopub.status.busy": "2024-06-13T06:15:39.886018Z",
     "iopub.status.idle": "2024-06-13T06:15:39.897208Z",
     "shell.execute_reply": "2024-06-13T06:15:39.896134Z",
     "shell.execute_reply.started": "2024-06-13T06:15:39.886541Z"
    }
   },
   "outputs": [
    {
     "data": {
      "text/plain": [
       "\u001b[0;31mSignature:\u001b[0m \u001b[0mget_emb_sz\u001b[0m\u001b[0;34m(\u001b[0m\u001b[0mto\u001b[0m\u001b[0;34m:\u001b[0m \u001b[0;34m'Tabular | TabularPandas'\u001b[0m\u001b[0;34m,\u001b[0m \u001b[0msz_dict\u001b[0m\u001b[0;34m:\u001b[0m \u001b[0;34m'dict'\u001b[0m \u001b[0;34m=\u001b[0m \u001b[0;32mNone\u001b[0m\u001b[0;34m)\u001b[0m \u001b[0;34m->\u001b[0m \u001b[0;34m'list'\u001b[0m\u001b[0;34m\u001b[0m\u001b[0;34m\u001b[0m\u001b[0m\n",
       "\u001b[0;31mSource:\u001b[0m   \n",
       "\u001b[0;32mdef\u001b[0m \u001b[0mget_emb_sz\u001b[0m\u001b[0;34m(\u001b[0m\u001b[0;34m\u001b[0m\n",
       "\u001b[0;34m\u001b[0m    \u001b[0mto\u001b[0m\u001b[0;34m:\u001b[0m\u001b[0mTabular\u001b[0m\u001b[0;34m|\u001b[0m\u001b[0mTabularPandas\u001b[0m\u001b[0;34m,\u001b[0m \u001b[0;34m\u001b[0m\n",
       "\u001b[0;34m\u001b[0m    \u001b[0msz_dict\u001b[0m\u001b[0;34m:\u001b[0m\u001b[0mdict\u001b[0m\u001b[0;34m=\u001b[0m\u001b[0;32mNone\u001b[0m \u001b[0;31m# Dictionary of {'class_name' : size, ...} to override default `emb_sz_rule` \u001b[0m\u001b[0;34m\u001b[0m\n",
       "\u001b[0;34m\u001b[0m\u001b[0;34m)\u001b[0m \u001b[0;34m->\u001b[0m \u001b[0mlist\u001b[0m\u001b[0;34m:\u001b[0m \u001b[0;31m# List of embedding sizes for each category\u001b[0m\u001b[0;34m\u001b[0m\n",
       "\u001b[0;34m\u001b[0m    \u001b[0;34m\"Get embedding size for each cat_name in `Tabular` or `TabularPandas`, or populate embedding size manually using sz_dict\"\u001b[0m\u001b[0;34m\u001b[0m\n",
       "\u001b[0;34m\u001b[0m    \u001b[0;32mreturn\u001b[0m \u001b[0;34m[\u001b[0m\u001b[0m_one_emb_sz\u001b[0m\u001b[0;34m(\u001b[0m\u001b[0mto\u001b[0m\u001b[0;34m.\u001b[0m\u001b[0mclasses\u001b[0m\u001b[0;34m,\u001b[0m \u001b[0mn\u001b[0m\u001b[0;34m,\u001b[0m \u001b[0msz_dict\u001b[0m\u001b[0;34m)\u001b[0m \u001b[0;32mfor\u001b[0m \u001b[0mn\u001b[0m \u001b[0;32min\u001b[0m \u001b[0mto\u001b[0m\u001b[0;34m.\u001b[0m\u001b[0mcat_names\u001b[0m\u001b[0;34m]\u001b[0m\u001b[0;34m\u001b[0m\u001b[0;34m\u001b[0m\u001b[0m\n",
       "\u001b[0;31mFile:\u001b[0m      /opt/homebrew/Caskroom/miniforge/base/envs/fastai/lib/python3.11/site-packages/fastai/tabular/model.py\n",
       "\u001b[0;31mType:\u001b[0m      function"
      ]
     },
     "metadata": {},
     "output_type": "display_data"
    }
   ],
   "source": [
    "get_emb_sz??"
   ]
  },
  {
   "cell_type": "code",
   "execution_count": 3,
   "id": "29ce133e-f076-4be6-b531-453488422239",
   "metadata": {
    "execution": {
     "iopub.execute_input": "2024-06-13T06:39:12.617950Z",
     "iopub.status.busy": "2024-06-13T06:39:12.617337Z",
     "iopub.status.idle": "2024-06-13T06:39:12.697252Z",
     "shell.execute_reply": "2024-06-13T06:39:12.695663Z",
     "shell.execute_reply.started": "2024-06-13T06:39:12.617911Z"
    }
   },
   "outputs": [
    {
     "data": {
      "text/plain": [
       "\u001b[0;31mSignature:\u001b[0m \u001b[0m_one_emb_sz\u001b[0m\u001b[0;34m(\u001b[0m\u001b[0mclasses\u001b[0m\u001b[0;34m,\u001b[0m \u001b[0mn\u001b[0m\u001b[0;34m,\u001b[0m \u001b[0msz_dict\u001b[0m\u001b[0;34m=\u001b[0m\u001b[0;32mNone\u001b[0m\u001b[0;34m)\u001b[0m\u001b[0;34m\u001b[0m\u001b[0;34m\u001b[0m\u001b[0m\n",
       "\u001b[0;31mSource:\u001b[0m   \n",
       "\u001b[0;32mdef\u001b[0m \u001b[0m_one_emb_sz\u001b[0m\u001b[0;34m(\u001b[0m\u001b[0mclasses\u001b[0m\u001b[0;34m,\u001b[0m \u001b[0mn\u001b[0m\u001b[0;34m,\u001b[0m \u001b[0msz_dict\u001b[0m\u001b[0;34m=\u001b[0m\u001b[0;32mNone\u001b[0m\u001b[0;34m)\u001b[0m\u001b[0;34m:\u001b[0m\u001b[0;34m\u001b[0m\n",
       "\u001b[0;34m\u001b[0m    \u001b[0;34m\"Pick an embedding size for `n` depending on `classes` if not given in `sz_dict`.\"\u001b[0m\u001b[0;34m\u001b[0m\n",
       "\u001b[0;34m\u001b[0m    \u001b[0msz_dict\u001b[0m \u001b[0;34m=\u001b[0m \u001b[0mifnone\u001b[0m\u001b[0;34m(\u001b[0m\u001b[0msz_dict\u001b[0m\u001b[0;34m,\u001b[0m \u001b[0;34m{\u001b[0m\u001b[0;34m}\u001b[0m\u001b[0;34m)\u001b[0m\u001b[0;34m\u001b[0m\n",
       "\u001b[0;34m\u001b[0m    \u001b[0mn_cat\u001b[0m \u001b[0;34m=\u001b[0m \u001b[0mlen\u001b[0m\u001b[0;34m(\u001b[0m\u001b[0mclasses\u001b[0m\u001b[0;34m[\u001b[0m\u001b[0mn\u001b[0m\u001b[0;34m]\u001b[0m\u001b[0;34m)\u001b[0m\u001b[0;34m\u001b[0m\n",
       "\u001b[0;34m\u001b[0m    \u001b[0msz\u001b[0m \u001b[0;34m=\u001b[0m \u001b[0msz_dict\u001b[0m\u001b[0;34m.\u001b[0m\u001b[0mget\u001b[0m\u001b[0;34m(\u001b[0m\u001b[0mn\u001b[0m\u001b[0;34m,\u001b[0m \u001b[0mint\u001b[0m\u001b[0;34m(\u001b[0m\u001b[0memb_sz_rule\u001b[0m\u001b[0;34m(\u001b[0m\u001b[0mn_cat\u001b[0m\u001b[0;34m)\u001b[0m\u001b[0;34m)\u001b[0m\u001b[0;34m)\u001b[0m  \u001b[0;31m# rule of thumb\u001b[0m\u001b[0;34m\u001b[0m\n",
       "\u001b[0;34m\u001b[0m    \u001b[0;32mreturn\u001b[0m \u001b[0mn_cat\u001b[0m\u001b[0;34m,\u001b[0m\u001b[0msz\u001b[0m\u001b[0;34m\u001b[0m\u001b[0;34m\u001b[0m\u001b[0m\n",
       "\u001b[0;31mFile:\u001b[0m      /opt/homebrew/Caskroom/miniforge/base/envs/fastai/lib/python3.11/site-packages/fastai/tabular/model.py\n",
       "\u001b[0;31mType:\u001b[0m      function"
      ]
     },
     "metadata": {},
     "output_type": "display_data"
    }
   ],
   "source": [
    "from fastai.tabular.model import _one_emb_sz\n",
    "_one_emb_sz??"
   ]
  },
  {
   "cell_type": "markdown",
   "id": "09f1ba21-b4a2-4e6c-9d82-ec4bd788a260",
   "metadata": {},
   "source": [
    "We see that the error is due to `get_emb_sz(dls.train_ds, {} if emb_szs is None else emb_szs)` line. The `get_emb_sz` function tries to return `[_one_emb_sz(to.classes, n, sz_dict) for n in to.cat_names]`. We get error because our dataloaders has no `classes` attributes .\n",
    "\n",
    "Here, `classes` attributes is what category do we have in each of our categorical columns. In `simple_df` below, we would declare `aa` column as categorical feature, with 3 separate classes `[1, 2, 3]`. The learner doesn't know this because we did not specify to `Categorify` our categorical column when initializing our dataloaders."
   ]
  },
  {
   "cell_type": "code",
   "execution_count": null,
   "id": "a7531ec8-95cb-4d57-942e-6c6be2135107",
   "metadata": {
    "execution": {
     "iopub.execute_input": "2024-06-13T06:30:06.212669Z",
     "iopub.status.busy": "2024-06-13T06:30:06.212095Z",
     "iopub.status.idle": "2024-06-13T06:30:06.227768Z",
     "shell.execute_reply": "2024-06-13T06:30:06.226600Z",
     "shell.execute_reply.started": "2024-06-13T06:30:06.212634Z"
    }
   },
   "outputs": [
    {
     "data": {
      "text/html": [
       "<div>\n",
       "<style scoped>\n",
       "    .dataframe tbody tr th:only-of-type {\n",
       "        vertical-align: middle;\n",
       "    }\n",
       "\n",
       "    .dataframe tbody tr th {\n",
       "        vertical-align: top;\n",
       "    }\n",
       "\n",
       "    .dataframe thead th {\n",
       "        text-align: right;\n",
       "    }\n",
       "</style>\n",
       "<table border=\"1\" class=\"dataframe\">\n",
       "  <thead>\n",
       "    <tr style=\"text-align: right;\">\n",
       "      <th></th>\n",
       "      <th>aa</th>\n",
       "      <th>bb</th>\n",
       "      <th>label</th>\n",
       "    </tr>\n",
       "  </thead>\n",
       "  <tbody>\n",
       "    <tr>\n",
       "      <th>0</th>\n",
       "      <td>1</td>\n",
       "      <td>1.1</td>\n",
       "      <td>1</td>\n",
       "    </tr>\n",
       "    <tr>\n",
       "      <th>1</th>\n",
       "      <td>2</td>\n",
       "      <td>2.2</td>\n",
       "      <td>0</td>\n",
       "    </tr>\n",
       "    <tr>\n",
       "      <th>2</th>\n",
       "      <td>3</td>\n",
       "      <td>3.3</td>\n",
       "      <td>1</td>\n",
       "    </tr>\n",
       "    <tr>\n",
       "      <th>3</th>\n",
       "      <td>1</td>\n",
       "      <td>5.0</td>\n",
       "      <td>1</td>\n",
       "    </tr>\n",
       "  </tbody>\n",
       "</table>\n",
       "</div>"
      ],
      "text/plain": [
       "   aa   bb  label\n",
       "0   1  1.1      1\n",
       "1   2  2.2      0\n",
       "2   3  3.3      1\n",
       "3   1  5.0      1"
      ]
     },
     "execution_count": 26,
     "metadata": {},
     "output_type": "execute_result"
    }
   ],
   "source": [
    "simple_df = pd.DataFrame({'aa': [1, 2, 3, 1], 'bb':[1.1, 2.2, 3.3, 5.0], 'label':[1, 0, 1, 1]})\n",
    "simple_df"
   ]
  },
  {
   "cell_type": "code",
   "execution_count": null,
   "id": "8bcfeeaf-2703-4efb-8508-5bf4db918305",
   "metadata": {
    "execution": {
     "iopub.execute_input": "2024-06-13T06:32:43.225802Z",
     "iopub.status.busy": "2024-06-13T06:32:43.225322Z",
     "iopub.status.idle": "2024-06-13T06:32:43.347979Z",
     "shell.execute_reply": "2024-06-13T06:32:43.345607Z",
     "shell.execute_reply.started": "2024-06-13T06:32:43.225761Z"
    },
    "scrolled": true
   },
   "outputs": [
    {
     "ename": "AttributeError",
     "evalue": "classes",
     "output_type": "error",
     "traceback": [
      "\u001b[0;31m---------------------------------------------------------------------------\u001b[0m",
      "\u001b[0;31mAttributeError\u001b[0m                            Traceback (most recent call last)",
      "Cell \u001b[0;32mIn[32], line 7\u001b[0m\n\u001b[1;32m      1\u001b[0m \u001b[43mTabularPandas\u001b[49m\u001b[43m(\u001b[49m\u001b[43msimple_df\u001b[49m\u001b[43m,\u001b[49m\u001b[43m \u001b[49m\n\u001b[1;32m      2\u001b[0m \u001b[43m              \u001b[49m\u001b[43mcat_names\u001b[49m\u001b[43m \u001b[49m\u001b[38;5;241;43m=\u001b[39;49m\u001b[43m \u001b[49m\u001b[43m[\u001b[49m\u001b[38;5;124;43m'\u001b[39;49m\u001b[38;5;124;43maa\u001b[39;49m\u001b[38;5;124;43m'\u001b[39;49m\u001b[43m]\u001b[49m\u001b[43m,\u001b[49m\u001b[43m \u001b[49m\n\u001b[1;32m      3\u001b[0m \u001b[43m              \u001b[49m\u001b[43mcont_names\u001b[49m\u001b[43m \u001b[49m\u001b[38;5;241;43m=\u001b[39;49m\u001b[43m \u001b[49m\u001b[43m[\u001b[49m\u001b[38;5;124;43m'\u001b[39;49m\u001b[38;5;124;43mbb\u001b[39;49m\u001b[38;5;124;43m'\u001b[39;49m\u001b[43m]\u001b[49m\u001b[43m,\u001b[49m\n\u001b[1;32m      4\u001b[0m \u001b[43m              \u001b[49m\u001b[43my_names\u001b[49m\u001b[43m \u001b[49m\u001b[38;5;241;43m=\u001b[39;49m\u001b[43m \u001b[49m\u001b[43m[\u001b[49m\u001b[38;5;124;43m'\u001b[39;49m\u001b[38;5;124;43mlabel\u001b[39;49m\u001b[38;5;124;43m'\u001b[39;49m\u001b[43m]\u001b[49m\u001b[43m,\u001b[49m\n\u001b[1;32m      5\u001b[0m \u001b[43m              \u001b[49m\u001b[43my_block\u001b[49m\u001b[43m \u001b[49m\u001b[38;5;241;43m=\u001b[39;49m\u001b[43m \u001b[49m\u001b[43mCategoryBlock\u001b[49m\u001b[43m(\u001b[49m\u001b[43mvocab\u001b[49m\u001b[38;5;241;43m=\u001b[39;49m\u001b[43msimple_df\u001b[49m\u001b[43m[\u001b[49m\u001b[43my_names\u001b[49m\u001b[43m]\u001b[49m\u001b[43m)\u001b[49m\u001b[43m,\u001b[49m\u001b[43m \u001b[49m\n\u001b[1;32m      6\u001b[0m \u001b[43m              \u001b[49m\u001b[43msplits\u001b[49m\u001b[43m \u001b[49m\u001b[38;5;241;43m=\u001b[39;49m\u001b[43m \u001b[49m\u001b[43m(\u001b[49m\u001b[43m[\u001b[49m\u001b[38;5;241;43m0\u001b[39;49m\u001b[43m,\u001b[49m\u001b[38;5;241;43m1\u001b[39;49m\u001b[43m,\u001b[49m\u001b[38;5;241;43m2\u001b[39;49m\u001b[43m]\u001b[49m\u001b[43m,\u001b[49m\u001b[43m \u001b[49m\u001b[43m[\u001b[49m\u001b[38;5;241;43m3\u001b[39;49m\u001b[43m]\u001b[49m\u001b[43m)\u001b[49m\u001b[43m,\u001b[49m\n\u001b[0;32m----> 7\u001b[0m \u001b[43m             \u001b[49m\u001b[43m)\u001b[49m\u001b[38;5;241;43m.\u001b[39;49m\u001b[43mdataloaders\u001b[49m\u001b[43m(\u001b[49m\u001b[43mbs\u001b[49m\u001b[38;5;241;43m=\u001b[39;49m\u001b[38;5;241;43m64\u001b[39;49m\u001b[43m)\u001b[49m\u001b[38;5;241;43m.\u001b[39;49m\u001b[43mclasses\u001b[49m\n",
      "File \u001b[0;32m/opt/homebrew/Caskroom/miniforge/base/envs/fastai/lib/python3.11/site-packages/fastcore/basics.py:507\u001b[0m, in \u001b[0;36mGetAttr.__getattr__\u001b[0;34m(self, k)\u001b[0m\n\u001b[1;32m    505\u001b[0m \u001b[38;5;28;01mif\u001b[39;00m \u001b[38;5;28mself\u001b[39m\u001b[38;5;241m.\u001b[39m_component_attr_filter(k):\n\u001b[1;32m    506\u001b[0m     attr \u001b[38;5;241m=\u001b[39m \u001b[38;5;28mgetattr\u001b[39m(\u001b[38;5;28mself\u001b[39m,\u001b[38;5;28mself\u001b[39m\u001b[38;5;241m.\u001b[39m_default,\u001b[38;5;28;01mNone\u001b[39;00m)\n\u001b[0;32m--> 507\u001b[0m     \u001b[38;5;28;01mif\u001b[39;00m attr \u001b[38;5;129;01mis\u001b[39;00m \u001b[38;5;129;01mnot\u001b[39;00m \u001b[38;5;28;01mNone\u001b[39;00m: \u001b[38;5;28;01mreturn\u001b[39;00m \u001b[38;5;28mgetattr\u001b[39m(attr,k)\n\u001b[1;32m    508\u001b[0m \u001b[38;5;28;01mraise\u001b[39;00m \u001b[38;5;167;01mAttributeError\u001b[39;00m(k)\n",
      "File \u001b[0;32m/opt/homebrew/Caskroom/miniforge/base/envs/fastai/lib/python3.11/site-packages/fastcore/basics.py:507\u001b[0m, in \u001b[0;36mGetAttr.__getattr__\u001b[0;34m(self, k)\u001b[0m\n\u001b[1;32m    505\u001b[0m \u001b[38;5;28;01mif\u001b[39;00m \u001b[38;5;28mself\u001b[39m\u001b[38;5;241m.\u001b[39m_component_attr_filter(k):\n\u001b[1;32m    506\u001b[0m     attr \u001b[38;5;241m=\u001b[39m \u001b[38;5;28mgetattr\u001b[39m(\u001b[38;5;28mself\u001b[39m,\u001b[38;5;28mself\u001b[39m\u001b[38;5;241m.\u001b[39m_default,\u001b[38;5;28;01mNone\u001b[39;00m)\n\u001b[0;32m--> 507\u001b[0m     \u001b[38;5;28;01mif\u001b[39;00m attr \u001b[38;5;129;01mis\u001b[39;00m \u001b[38;5;129;01mnot\u001b[39;00m \u001b[38;5;28;01mNone\u001b[39;00m: \u001b[38;5;28;01mreturn\u001b[39;00m \u001b[38;5;28mgetattr\u001b[39m(attr,k)\n\u001b[1;32m    508\u001b[0m \u001b[38;5;28;01mraise\u001b[39;00m \u001b[38;5;167;01mAttributeError\u001b[39;00m(k)\n",
      "File \u001b[0;32m/opt/homebrew/Caskroom/miniforge/base/envs/fastai/lib/python3.11/site-packages/fastcore/basics.py:507\u001b[0m, in \u001b[0;36mGetAttr.__getattr__\u001b[0;34m(self, k)\u001b[0m\n\u001b[1;32m    505\u001b[0m \u001b[38;5;28;01mif\u001b[39;00m \u001b[38;5;28mself\u001b[39m\u001b[38;5;241m.\u001b[39m_component_attr_filter(k):\n\u001b[1;32m    506\u001b[0m     attr \u001b[38;5;241m=\u001b[39m \u001b[38;5;28mgetattr\u001b[39m(\u001b[38;5;28mself\u001b[39m,\u001b[38;5;28mself\u001b[39m\u001b[38;5;241m.\u001b[39m_default,\u001b[38;5;28;01mNone\u001b[39;00m)\n\u001b[0;32m--> 507\u001b[0m     \u001b[38;5;28;01mif\u001b[39;00m attr \u001b[38;5;129;01mis\u001b[39;00m \u001b[38;5;129;01mnot\u001b[39;00m \u001b[38;5;28;01mNone\u001b[39;00m: \u001b[38;5;28;01mreturn\u001b[39;00m \u001b[38;5;28mgetattr\u001b[39m(attr,k)\n\u001b[1;32m    508\u001b[0m \u001b[38;5;28;01mraise\u001b[39;00m \u001b[38;5;167;01mAttributeError\u001b[39;00m(k)\n",
      "File \u001b[0;32m/opt/homebrew/Caskroom/miniforge/base/envs/fastai/lib/python3.11/site-packages/fastcore/transform.py:212\u001b[0m, in \u001b[0;36mPipeline.__getattr__\u001b[0;34m(self, k)\u001b[0m\n\u001b[0;32m--> 212\u001b[0m \u001b[38;5;28;01mdef\u001b[39;00m \u001b[38;5;21m__getattr__\u001b[39m(\u001b[38;5;28mself\u001b[39m,k): \u001b[38;5;28;01mreturn\u001b[39;00m \u001b[43mgather_attrs\u001b[49m\u001b[43m(\u001b[49m\u001b[38;5;28;43mself\u001b[39;49m\u001b[43m,\u001b[49m\u001b[43m \u001b[49m\u001b[43mk\u001b[49m\u001b[43m,\u001b[49m\u001b[43m \u001b[49m\u001b[38;5;124;43m'\u001b[39;49m\u001b[38;5;124;43mfs\u001b[39;49m\u001b[38;5;124;43m'\u001b[39;49m\u001b[43m)\u001b[49m\n",
      "File \u001b[0;32m/opt/homebrew/Caskroom/miniforge/base/envs/fastai/lib/python3.11/site-packages/fastcore/transform.py:173\u001b[0m, in \u001b[0;36mgather_attrs\u001b[0;34m(o, k, nm)\u001b[0m\n\u001b[1;32m    171\u001b[0m att \u001b[38;5;241m=\u001b[39m \u001b[38;5;28mgetattr\u001b[39m(o,nm)\n\u001b[1;32m    172\u001b[0m res \u001b[38;5;241m=\u001b[39m [t \u001b[38;5;28;01mfor\u001b[39;00m t \u001b[38;5;129;01min\u001b[39;00m att\u001b[38;5;241m.\u001b[39mattrgot(k) \u001b[38;5;28;01mif\u001b[39;00m t \u001b[38;5;129;01mis\u001b[39;00m \u001b[38;5;129;01mnot\u001b[39;00m \u001b[38;5;28;01mNone\u001b[39;00m]\n\u001b[0;32m--> 173\u001b[0m \u001b[38;5;28;01mif\u001b[39;00m \u001b[38;5;129;01mnot\u001b[39;00m res: \u001b[38;5;28;01mraise\u001b[39;00m \u001b[38;5;167;01mAttributeError\u001b[39;00m(k)\n\u001b[1;32m    174\u001b[0m \u001b[38;5;28;01mreturn\u001b[39;00m res[\u001b[38;5;241m0\u001b[39m] \u001b[38;5;28;01mif\u001b[39;00m \u001b[38;5;28mlen\u001b[39m(res)\u001b[38;5;241m==\u001b[39m\u001b[38;5;241m1\u001b[39m \u001b[38;5;28;01melse\u001b[39;00m L(res)\n",
      "\u001b[0;31mAttributeError\u001b[0m: classes"
     ]
    }
   ],
   "source": [
    "# no classes attributes\n",
    "\n",
    "TabularPandas(simple_df, \n",
    "              cat_names = ['aa'], \n",
    "              cont_names = ['bb'],\n",
    "              y_names = ['label'],\n",
    "              y_block = CategoryBlock(vocab=simple_df[y_names]), \n",
    "              splits = ([0,1,2], [3]),\n",
    "             ).dataloaders(bs=64).classes\n"
   ]
  },
  {
   "cell_type": "code",
   "execution_count": null,
   "id": "e0b074ad-35d2-4c15-b531-d0de29910ea6",
   "metadata": {
    "execution": {
     "iopub.execute_input": "2024-06-13T06:34:11.357487Z",
     "iopub.status.busy": "2024-06-13T06:34:11.355832Z",
     "iopub.status.idle": "2024-06-13T06:34:11.412460Z",
     "shell.execute_reply": "2024-06-13T06:34:11.409640Z",
     "shell.execute_reply.started": "2024-06-13T06:34:11.357424Z"
    }
   },
   "outputs": [
    {
     "data": {
      "text/plain": [
       "{'aa': ['#na#', 1, 2, 3]}"
      ]
     },
     "execution_count": 33,
     "metadata": {},
     "output_type": "execute_result"
    }
   ],
   "source": [
    "# now we have classes attributes\n",
    "\n",
    "TabularPandas(simple_df, \n",
    "              cat_names = ['aa'], \n",
    "              cont_names = ['bb'],\n",
    "              y_names = ['label'],\n",
    "              y_block = CategoryBlock(vocab=simple_df[y_names]), \n",
    "              splits = ([0,1,2], [3]),\n",
    "              procs = [Categorify]\n",
    "             ).dataloaders(bs=64).classes\n"
   ]
  },
  {
   "cell_type": "markdown",
   "id": "5b514fd2-5102-47d5-bbd8-b00bf3862289",
   "metadata": {},
   "source": [
    "That's all for now, bye!"
   ]
  }
 ],
 "metadata": {
  "kernelspec": {
   "display_name": "Python 3.11 (fastai)",
   "language": "python",
   "name": "fastai"
  },
  "language_info": {
   "codemirror_mode": {
    "name": "ipython",
    "version": 3
   },
   "file_extension": ".py",
   "mimetype": "text/x-python",
   "name": "python",
   "nbconvert_exporter": "python",
   "pygments_lexer": "ipython3",
   "version": "3.11.9"
  }
 },
 "nbformat": 4,
 "nbformat_minor": 5
}
